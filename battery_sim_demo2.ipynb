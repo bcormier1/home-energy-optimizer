{
 "cells": [
  {
   "cell_type": "code",
   "execution_count": 18,
   "metadata": {},
   "outputs": [],
   "source": [
    "import battery_sim\n",
    "\n",
    "bat = battery_sim.battery()"
   ]
  },
  {
   "cell_type": "code",
   "execution_count": 19,
   "metadata": {},
   "outputs": [
    {
     "name": "stdout",
     "output_type": "stream",
     "text": [
      "Available Energy 0 kWh\n",
      "Max input: 0.41666666666666663 kWh\n",
      "Max output: 0.0 kWh\n"
     ]
    }
   ],
   "source": [
    "# Get bounds for operation - charge and discharge:\n",
    "print(f\"Available Energy {bat.avl_energy} kWh\")\n",
    "print(f\"Max input: {bat.get_charge_potential()} kWh\")\n",
    "print(f\"Max output: {bat.get_discharge_potential()} kWh\")"
   ]
  },
  {
   "cell_type": "code",
   "execution_count": 20,
   "metadata": {},
   "outputs": [
    {
     "ename": "BatteryFullError",
     "evalue": "",
     "output_type": "error",
     "traceback": [
      "\u001b[1;31m---------------------------------------------------------------------------\u001b[0m",
      "\u001b[1;31mBatteryFullError\u001b[0m                          Traceback (most recent call last)",
      "\u001b[1;32mC:\\Users\\ALEXAN~1\\AppData\\Local\\Temp/ipykernel_40716/1271524763.py\u001b[0m in \u001b[0;36m<module>\u001b[1;34m\u001b[0m\n\u001b[0;32m      1\u001b[0m \u001b[1;31m# Charge the battery with too much power\u001b[0m\u001b[1;33m\u001b[0m\u001b[1;33m\u001b[0m\u001b[1;33m\u001b[0m\u001b[0m\n\u001b[1;32m----> 2\u001b[1;33m \u001b[0mbat\u001b[0m\u001b[1;33m.\u001b[0m\u001b[0mcharge_\u001b[0m\u001b[1;33m(\u001b[0m\u001b[1;36m11\u001b[0m\u001b[1;33m)\u001b[0m\u001b[1;33m\u001b[0m\u001b[1;33m\u001b[0m\u001b[0m\n\u001b[0m",
      "\u001b[1;32m~\\OneDrive\\Berkeley\\Courses\\W210\\home-energy-optimizer\\battery_sim.py\u001b[0m in \u001b[0;36mcharge_\u001b[1;34m(self, input_energy)\u001b[0m\n\u001b[0;32m     86\u001b[0m \u001b[1;33m\u001b[0m\u001b[0m\n\u001b[0;32m     87\u001b[0m         \u001b[1;32mif\u001b[0m \u001b[0minput_energy\u001b[0m \u001b[1;33m>\u001b[0m \u001b[0mavailable_capacity\u001b[0m\u001b[1;33m:\u001b[0m\u001b[1;33m\u001b[0m\u001b[1;33m\u001b[0m\u001b[0m\n\u001b[1;32m---> 88\u001b[1;33m             \u001b[1;32mraise\u001b[0m \u001b[0mBatteryFullError\u001b[0m\u001b[1;33m\u001b[0m\u001b[1;33m\u001b[0m\u001b[0m\n\u001b[0m\u001b[0;32m     89\u001b[0m         \u001b[1;32melse\u001b[0m\u001b[1;33m:\u001b[0m\u001b[1;33m\u001b[0m\u001b[1;33m\u001b[0m\u001b[0m\n\u001b[0;32m     90\u001b[0m             \u001b[0mself\u001b[0m\u001b[1;33m.\u001b[0m\u001b[0mavl_energy\u001b[0m \u001b[1;33m+=\u001b[0m \u001b[0minput_energy\u001b[0m \u001b[1;33m*\u001b[0m \u001b[0mself\u001b[0m\u001b[1;33m.\u001b[0m\u001b[0mcharge_loss\u001b[0m\u001b[1;33m\u001b[0m\u001b[1;33m\u001b[0m\u001b[0m\n",
      "\u001b[1;31mBatteryFullError\u001b[0m: "
     ]
    }
   ],
   "source": [
    "# Charge the battery with too much power\n",
    "bat.charge_(11) "
   ]
  },
  {
   "cell_type": "code",
   "execution_count": 21,
   "metadata": {},
   "outputs": [
    {
     "data": {
      "text/plain": [
       "0.3952847075210474"
      ]
     },
     "execution_count": 21,
     "metadata": {},
     "output_type": "execute_result"
    }
   ],
   "source": [
    "# Charge the battery with max charge rate\n",
    "first_charge = bat.get_charge_potential() \n",
    "\n",
    "# charge battery\n",
    "bat.charge_(first_charge)\n",
    "# print updated available energy\n",
    "bat.avl_energy"
   ]
  },
  {
   "cell_type": "code",
   "execution_count": 22,
   "metadata": {},
   "outputs": [
    {
     "data": {
      "text/plain": [
       "True"
      ]
     },
     "execution_count": 22,
     "metadata": {},
     "output_type": "execute_result"
    }
   ],
   "source": [
    "# Check that new availabe energy = max charge rate x charge losses\n",
    "bat.avl_energy == bat.get_charge_potential() * bat.charge_loss"
   ]
  },
  {
   "cell_type": "code",
   "execution_count": 26,
   "metadata": {},
   "outputs": [
    {
     "data": {
      "text/plain": [
       "0.37499999999999994"
      ]
     },
     "execution_count": 26,
     "metadata": {},
     "output_type": "execute_result"
    }
   ],
   "source": [
    "# Get discharge potential - how much energy i could recover, taking into account discharge losses\n",
    "first_discharge = bat.get_discharge_potential()\n",
    "first_discharge"
   ]
  },
  {
   "cell_type": "code",
   "execution_count": 28,
   "metadata": {},
   "outputs": [
    {
     "data": {
      "text/plain": [
       "0.8999999999999999"
      ]
     },
     "execution_count": 28,
     "metadata": {},
     "output_type": "execute_result"
    }
   ],
   "source": [
    "# Check round trip efficiency calculation:\n",
    "first_discharge / first_charge"
   ]
  },
  {
   "cell_type": "code",
   "execution_count": 30,
   "metadata": {},
   "outputs": [],
   "source": [
    "# Discharge battery\n",
    "bat.discharge_(first_discharge)"
   ]
  },
  {
   "cell_type": "code",
   "execution_count": 31,
   "metadata": {},
   "outputs": [
    {
     "data": {
      "text/plain": [
       "0.0"
      ]
     },
     "execution_count": 31,
     "metadata": {},
     "output_type": "execute_result"
    }
   ],
   "source": [
    "# Check empty.\n",
    "bat.avl_energy"
   ]
  },
  {
   "cell_type": "code",
   "execution_count": 32,
   "metadata": {},
   "outputs": [
    {
     "name": "stdout",
     "output_type": "stream",
     "text": [
      "Max Capacity: 14.00000, Total Energy in/out: 5, Energy:-5, trips: 0, previous: 0\n",
      "Max Capacity: 14.00000, Total Energy in/out: 8, Energy:3, trips: 0, previous: 0\n",
      "Max Capacity: 14.00000, Total Energy in/out: 10, Energy:2, trips: 0, previous: 0\n",
      "Max Capacity: 14.00000, Total Energy in/out: 15, Energy:5, trips: 0, previous: 0\n",
      "Max Capacity: 14.00000, Total Energy in/out: 25, Energy:-10, trips: 0, previous: 0\n",
      "Max Capacity: 13.99975, Total Energy in/out: 28, Energy:3, trips: 1, previous: 1\n",
      "Max Capacity: 13.99975, Total Energy in/out: 33, Energy:5, trips: 1.0, previous: 1.0\n",
      "Max Capacity: 13.99975, Total Energy in/out: 41, Energy:8, trips: 1.0, previous: 1.0\n",
      "Max Capacity: 13.99975, Total Energy in/out: 51, Energy:10, trips: 1.0, previous: 1.0\n",
      "Max Capacity: 13.99975, Total Energy in/out: 53, Energy:2, trips: 1.0, previous: 1.0\n",
      "Max Capacity: 13.99950, Total Energy in/out: 57, Energy:4, trips: 2.0, previous: 2.0\n",
      "Max Capacity: 13.99950, Total Energy in/out: 63, Energy:6, trips: 2.0, previous: 2.0\n",
      "Max Capacity: 13.99950, Total Energy in/out: 66, Energy:3, trips: 2.0, previous: 2.0\n",
      "Max Capacity: 13.99950, Total Energy in/out: 68, Energy:2, trips: 2.0, previous: 2.0\n",
      "Max Capacity: 13.99950, Total Energy in/out: 69, Energy:1, trips: 2.0, previous: 2.0\n",
      "Max Capacity: 13.99950, Total Energy in/out: 72, Energy:3, trips: 2.0, previous: 2.0\n",
      "Max Capacity: 13.99950, Total Energy in/out: 77, Energy:5, trips: 2.0, previous: 2.0\n",
      "Max Capacity: 13.99950, Total Energy in/out: 79, Energy:2, trips: 2.0, previous: 2.0\n",
      "Max Capacity: 13.99925, Total Energy in/out: 88, Energy:9, trips: 3.0, previous: 3.0\n"
     ]
    }
   ],
   "source": [
    "# degredation demo\n",
    "t = battery_sim.battery()\n",
    "\n",
    "# Random array of outputs\n",
    "energy= [-5,3,2,5,-10,3,5,8,10,2,-4,6,-3,2,1,3,5,2,9]\n",
    "\n",
    "for e in energy:\n",
    "    # decrememnt only (doesn't call the charging/discharing functions)\n",
    "    t.update_capacity_degredation(e)\n",
    "    print(f\"Max Capacity: {t.capacity:.5f}, Total Energy in/out: {t.total_energy_flow}, Energy:{e}, trips: {t.trip_count}, previous: {t.previous_trip_count}\")"
   ]
  },
  {
   "cell_type": "code",
   "execution_count": null,
   "metadata": {},
   "outputs": [],
   "source": []
  }
 ],
 "metadata": {
  "kernelspec": {
   "display_name": "Python 3 (ipykernel)",
   "language": "python",
   "name": "python3"
  },
  "language_info": {
   "codemirror_mode": {
    "name": "ipython",
    "version": 3
   },
   "file_extension": ".py",
   "mimetype": "text/x-python",
   "name": "python",
   "nbconvert_exporter": "python",
   "pygments_lexer": "ipython3",
   "version": "3.7.4"
  }
 },
 "nbformat": 4,
 "nbformat_minor": 4
}

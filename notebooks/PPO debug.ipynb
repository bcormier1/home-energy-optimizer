{
 "cells": [
  {
   "cell_type": "code",
   "execution_count": 1,
   "id": "9289f927",
   "metadata": {},
   "outputs": [],
   "source": [
    "import sys, os\n",
    "parent_dir = os.getcwd()\n",
    "path = os.path.dirname(parent_dir)\n",
    "sys.path.append(path)\n",
    "\n",
    "from gym_homer.envs.homer_env import HomerEnv\n",
    "import pandas as pd\n",
    "import numpy as np\n",
    "\n",
    "import torch\n",
    "import gym\n",
    "from gym import spaces, wrappers\n",
    "import envpool\n",
    "\n",
    "from tianshou.utils import WandbLogger\n",
    "from torch.utils.tensorboard import SummaryWriter\n",
    "\n",
    "from tianshou.data import Collector, ReplayBuffer, VectorReplayBuffer, AsyncCollector, PrioritizedVectorReplayBuffer\n",
    "from tianshou.env import DummyVectorEnv, SubprocVectorEnv, ShmemVectorEnv\n",
    "from tianshou.policy import PPOPolicy\n",
    "from tianshou.trainer import onpolicy_trainer\n",
    "from tianshou.utils.net.common import ActorCritic, Net\n",
    "from tianshou.utils.net.discrete import Actor, Critic\n",
    "\n",
    "import warnings\n",
    "warnings.filterwarnings('ignore')\n",
    "\n",
    "device = 'cuda' if torch.cuda.is_available() else 'cpu'\n",
    "i=0"
   ]
  },
  {
   "cell_type": "code",
   "execution_count": 2,
   "id": "41a8882d-e0d0-42de-92eb-85dd71728230",
   "metadata": {},
   "outputs": [
    {
     "data": {
      "text/plain": [
       "'/home/ds1/w210/home-energy-optimizer'"
      ]
     },
     "execution_count": 2,
     "metadata": {},
     "output_type": "execute_result"
    }
   ],
   "source": [
    "path"
   ]
  },
  {
   "cell_type": "code",
   "execution_count": 3,
   "id": "cf7175e3-852d-4f2b-a492-c804acd76f38",
   "metadata": {},
   "outputs": [
    {
     "name": "stderr",
     "output_type": "stream",
     "text": [
      "\u001b[34m\u001b[1mwandb\u001b[0m: Currently logged in as: \u001b[33matox120\u001b[0m (\u001b[33mw266_wra\u001b[0m). Use \u001b[1m`wandb login --relogin`\u001b[0m to force relogin\n"
     ]
    },
    {
     "data": {
      "text/html": [
       "wandb version 0.13.5 is available!  To upgrade, please run:\n",
       " $ pip install wandb --upgrade"
      ],
      "text/plain": [
       "<IPython.core.display.HTML object>"
      ]
     },
     "metadata": {},
     "output_type": "display_data"
    },
    {
     "data": {
      "text/html": [
       "Tracking run with wandb version 0.13.4"
      ],
      "text/plain": [
       "<IPython.core.display.HTML object>"
      ]
     },
     "metadata": {},
     "output_type": "display_data"
    },
    {
     "data": {
      "text/html": [
       "Run data is saved locally in <code>/home/ds1/w210/home-energy-optimizer/notebooks/wandb/run-20221127_105403-1bx8c4yw</code>"
      ],
      "text/plain": [
       "<IPython.core.display.HTML object>"
      ]
     },
     "metadata": {},
     "output_type": "display_data"
    },
    {
     "data": {
      "text/html": [
       "Syncing run <strong><a href=\"https://wandb.ai/w266_wra/RL_project/runs/1bx8c4yw\" target=\"_blank\">debug_0</a></strong> to <a href=\"https://wandb.ai/w266_wra/RL_project\" target=\"_blank\">Weights & Biases</a> (<a href=\"https://wandb.me/run\" target=\"_blank\">docs</a>)<br/>"
      ],
      "text/plain": [
       "<IPython.core.display.HTML object>"
      ]
     },
     "metadata": {},
     "output_type": "display_data"
    },
    {
     "name": "stderr",
     "output_type": "stream",
     "text": [
      "\u001b[34m\u001b[1mwandb\u001b[0m: \u001b[33mWARNING\u001b[0m Found log directory outside of given root_logdir, dropping given root_logdir for event file in /home/ds1/w210/home-energy-optimizer/logs/\n"
     ]
    }
   ],
   "source": [
    "log_path = path+'/logs/'\n",
    "logger = WandbLogger(\n",
    "    project=\"RL_project\", \n",
    "    entity=\"w266_wra\",\n",
    "    name=f'debug_{i}',\n",
    "    config=None)\n",
    "logger.load(SummaryWriter(log_path))\n",
    "i += 1"
   ]
  },
  {
   "cell_type": "code",
   "execution_count": 4,
   "id": "379f1ec1",
   "metadata": {},
   "outputs": [],
   "source": [
    "# Load Data\n",
    "data = pd.read_csv(path+\"/test_env_data.csv\", index_col=False).fillna(0)\n",
    "vectorised = False\n",
    "\n",
    "\n",
    "n_train_envs = 10\n",
    "n_test_envs = 10\n",
    "\n",
    "env = HomerEnv(data=data, start_soc='full')\n",
    "train_envs = SubprocVectorEnv([lambda: HomerEnv(\n",
    "    data=data, \n",
    "    capacity=10,\n",
    "    start_soc='full', \n",
    "    discrete=True,\n",
    "    charge_rate = 12) for _ in range(n_train_envs)])\n",
    "\n",
    "test_envs = SubprocVectorEnv([lambda: HomerEnv(\n",
    "    data=data, \n",
    "    capacity=10,\n",
    "    start_soc='full', \n",
    "    discrete=True,\n",
    "    charge_rate = 12,\n",
    "    save_history=True,\n",
    "    save_path=path) for _ in range(n_test_envs)])"
   ]
  },
  {
   "cell_type": "code",
   "execution_count": 5,
   "id": "e1fbacf0",
   "metadata": {
    "tags": []
   },
   "outputs": [
    {
     "data": {
      "text/html": [
       "<div>\n",
       "<style scoped>\n",
       "    .dataframe tbody tr th:only-of-type {\n",
       "        vertical-align: middle;\n",
       "    }\n",
       "\n",
       "    .dataframe tbody tr th {\n",
       "        vertical-align: top;\n",
       "    }\n",
       "\n",
       "    .dataframe thead th {\n",
       "        text-align: right;\n",
       "    }\n",
       "</style>\n",
       "<table border=\"1\" class=\"dataframe\">\n",
       "  <thead>\n",
       "    <tr style=\"text-align: right;\">\n",
       "      <th></th>\n",
       "      <th>time_x</th>\n",
       "      <th>time_y</th>\n",
       "      <th>weekend</th>\n",
       "      <th>month_x</th>\n",
       "      <th>month_y</th>\n",
       "      <th>region_1</th>\n",
       "      <th>region_2</th>\n",
       "      <th>region_3</th>\n",
       "      <th>solar</th>\n",
       "      <th>loads</th>\n",
       "      <th>import_tariff</th>\n",
       "      <th>export_tariff</th>\n",
       "      <th>max_d</th>\n",
       "      <th>max_c</th>\n",
       "      <th>soc</th>\n",
       "    </tr>\n",
       "  </thead>\n",
       "  <tbody>\n",
       "    <tr>\n",
       "      <th>0</th>\n",
       "      <td>0.000</td>\n",
       "      <td>1.000</td>\n",
       "      <td>0</td>\n",
       "      <td>0.0</td>\n",
       "      <td>1.0</td>\n",
       "      <td>0</td>\n",
       "      <td>0</td>\n",
       "      <td>0</td>\n",
       "      <td>0</td>\n",
       "      <td>0.5</td>\n",
       "      <td>0.05</td>\n",
       "      <td>0.0</td>\n",
       "      <td>0.0</td>\n",
       "      <td>0.0</td>\n",
       "      <td>0.0</td>\n",
       "    </tr>\n",
       "    <tr>\n",
       "      <th>1</th>\n",
       "      <td>0.500</td>\n",
       "      <td>0.866</td>\n",
       "      <td>0</td>\n",
       "      <td>0.0</td>\n",
       "      <td>1.0</td>\n",
       "      <td>0</td>\n",
       "      <td>0</td>\n",
       "      <td>0</td>\n",
       "      <td>-2</td>\n",
       "      <td>0.5</td>\n",
       "      <td>0.05</td>\n",
       "      <td>0.0</td>\n",
       "      <td>0.0</td>\n",
       "      <td>0.0</td>\n",
       "      <td>0.0</td>\n",
       "    </tr>\n",
       "    <tr>\n",
       "      <th>2</th>\n",
       "      <td>0.866</td>\n",
       "      <td>0.500</td>\n",
       "      <td>0</td>\n",
       "      <td>0.0</td>\n",
       "      <td>1.0</td>\n",
       "      <td>0</td>\n",
       "      <td>0</td>\n",
       "      <td>0</td>\n",
       "      <td>-2</td>\n",
       "      <td>0.5</td>\n",
       "      <td>0.05</td>\n",
       "      <td>0.0</td>\n",
       "      <td>0.0</td>\n",
       "      <td>0.0</td>\n",
       "      <td>0.0</td>\n",
       "    </tr>\n",
       "    <tr>\n",
       "      <th>3</th>\n",
       "      <td>1.000</td>\n",
       "      <td>0.000</td>\n",
       "      <td>0</td>\n",
       "      <td>0.0</td>\n",
       "      <td>1.0</td>\n",
       "      <td>0</td>\n",
       "      <td>0</td>\n",
       "      <td>0</td>\n",
       "      <td>0</td>\n",
       "      <td>0.5</td>\n",
       "      <td>0.05</td>\n",
       "      <td>0.0</td>\n",
       "      <td>0.0</td>\n",
       "      <td>0.0</td>\n",
       "      <td>0.0</td>\n",
       "    </tr>\n",
       "    <tr>\n",
       "      <th>4</th>\n",
       "      <td>0.866</td>\n",
       "      <td>-0.500</td>\n",
       "      <td>0</td>\n",
       "      <td>0.0</td>\n",
       "      <td>1.0</td>\n",
       "      <td>0</td>\n",
       "      <td>0</td>\n",
       "      <td>0</td>\n",
       "      <td>0</td>\n",
       "      <td>0.5</td>\n",
       "      <td>0.05</td>\n",
       "      <td>0.0</td>\n",
       "      <td>0.0</td>\n",
       "      <td>0.0</td>\n",
       "      <td>0.0</td>\n",
       "    </tr>\n",
       "    <tr>\n",
       "      <th>5</th>\n",
       "      <td>0.500</td>\n",
       "      <td>-0.866</td>\n",
       "      <td>0</td>\n",
       "      <td>0.0</td>\n",
       "      <td>1.0</td>\n",
       "      <td>0</td>\n",
       "      <td>0</td>\n",
       "      <td>0</td>\n",
       "      <td>0</td>\n",
       "      <td>0.5</td>\n",
       "      <td>0.05</td>\n",
       "      <td>0.0</td>\n",
       "      <td>0.0</td>\n",
       "      <td>0.0</td>\n",
       "      <td>0.0</td>\n",
       "    </tr>\n",
       "    <tr>\n",
       "      <th>6</th>\n",
       "      <td>0.000</td>\n",
       "      <td>-1.000</td>\n",
       "      <td>0</td>\n",
       "      <td>0.0</td>\n",
       "      <td>1.0</td>\n",
       "      <td>0</td>\n",
       "      <td>0</td>\n",
       "      <td>0</td>\n",
       "      <td>0</td>\n",
       "      <td>0.5</td>\n",
       "      <td>0.05</td>\n",
       "      <td>0.0</td>\n",
       "      <td>0.0</td>\n",
       "      <td>0.0</td>\n",
       "      <td>0.0</td>\n",
       "    </tr>\n",
       "    <tr>\n",
       "      <th>7</th>\n",
       "      <td>-0.500</td>\n",
       "      <td>-0.866</td>\n",
       "      <td>0</td>\n",
       "      <td>0.0</td>\n",
       "      <td>1.0</td>\n",
       "      <td>0</td>\n",
       "      <td>0</td>\n",
       "      <td>0</td>\n",
       "      <td>0</td>\n",
       "      <td>0.5</td>\n",
       "      <td>2.00</td>\n",
       "      <td>2.0</td>\n",
       "      <td>0.0</td>\n",
       "      <td>0.0</td>\n",
       "      <td>0.0</td>\n",
       "    </tr>\n",
       "    <tr>\n",
       "      <th>8</th>\n",
       "      <td>-0.866</td>\n",
       "      <td>-0.500</td>\n",
       "      <td>0</td>\n",
       "      <td>0.0</td>\n",
       "      <td>1.0</td>\n",
       "      <td>0</td>\n",
       "      <td>0</td>\n",
       "      <td>0</td>\n",
       "      <td>0</td>\n",
       "      <td>0.5</td>\n",
       "      <td>2.00</td>\n",
       "      <td>2.0</td>\n",
       "      <td>0.0</td>\n",
       "      <td>0.0</td>\n",
       "      <td>0.0</td>\n",
       "    </tr>\n",
       "    <tr>\n",
       "      <th>9</th>\n",
       "      <td>-1.000</td>\n",
       "      <td>-0.000</td>\n",
       "      <td>0</td>\n",
       "      <td>0.0</td>\n",
       "      <td>1.0</td>\n",
       "      <td>0</td>\n",
       "      <td>0</td>\n",
       "      <td>0</td>\n",
       "      <td>0</td>\n",
       "      <td>0.5</td>\n",
       "      <td>0.05</td>\n",
       "      <td>0.0</td>\n",
       "      <td>0.0</td>\n",
       "      <td>0.0</td>\n",
       "      <td>0.0</td>\n",
       "    </tr>\n",
       "    <tr>\n",
       "      <th>10</th>\n",
       "      <td>-0.866</td>\n",
       "      <td>0.500</td>\n",
       "      <td>0</td>\n",
       "      <td>0.0</td>\n",
       "      <td>1.0</td>\n",
       "      <td>0</td>\n",
       "      <td>0</td>\n",
       "      <td>0</td>\n",
       "      <td>0</td>\n",
       "      <td>0.5</td>\n",
       "      <td>0.05</td>\n",
       "      <td>0.0</td>\n",
       "      <td>0.0</td>\n",
       "      <td>0.0</td>\n",
       "      <td>0.0</td>\n",
       "    </tr>\n",
       "    <tr>\n",
       "      <th>11</th>\n",
       "      <td>-0.500</td>\n",
       "      <td>0.866</td>\n",
       "      <td>0</td>\n",
       "      <td>0.0</td>\n",
       "      <td>1.0</td>\n",
       "      <td>0</td>\n",
       "      <td>0</td>\n",
       "      <td>0</td>\n",
       "      <td>0</td>\n",
       "      <td>0.5</td>\n",
       "      <td>0.05</td>\n",
       "      <td>0.0</td>\n",
       "      <td>0.0</td>\n",
       "      <td>0.0</td>\n",
       "      <td>0.0</td>\n",
       "    </tr>\n",
       "  </tbody>\n",
       "</table>\n",
       "</div>"
      ],
      "text/plain": [
       "    time_x  time_y  weekend  month_x  month_y  region_1  region_2  region_3  \\\n",
       "0    0.000   1.000        0      0.0      1.0         0         0         0   \n",
       "1    0.500   0.866        0      0.0      1.0         0         0         0   \n",
       "2    0.866   0.500        0      0.0      1.0         0         0         0   \n",
       "3    1.000   0.000        0      0.0      1.0         0         0         0   \n",
       "4    0.866  -0.500        0      0.0      1.0         0         0         0   \n",
       "5    0.500  -0.866        0      0.0      1.0         0         0         0   \n",
       "6    0.000  -1.000        0      0.0      1.0         0         0         0   \n",
       "7   -0.500  -0.866        0      0.0      1.0         0         0         0   \n",
       "8   -0.866  -0.500        0      0.0      1.0         0         0         0   \n",
       "9   -1.000  -0.000        0      0.0      1.0         0         0         0   \n",
       "10  -0.866   0.500        0      0.0      1.0         0         0         0   \n",
       "11  -0.500   0.866        0      0.0      1.0         0         0         0   \n",
       "\n",
       "    solar  loads  import_tariff  export_tariff  max_d  max_c  soc  \n",
       "0       0    0.5           0.05            0.0    0.0    0.0  0.0  \n",
       "1      -2    0.5           0.05            0.0    0.0    0.0  0.0  \n",
       "2      -2    0.5           0.05            0.0    0.0    0.0  0.0  \n",
       "3       0    0.5           0.05            0.0    0.0    0.0  0.0  \n",
       "4       0    0.5           0.05            0.0    0.0    0.0  0.0  \n",
       "5       0    0.5           0.05            0.0    0.0    0.0  0.0  \n",
       "6       0    0.5           0.05            0.0    0.0    0.0  0.0  \n",
       "7       0    0.5           2.00            2.0    0.0    0.0  0.0  \n",
       "8       0    0.5           2.00            2.0    0.0    0.0  0.0  \n",
       "9       0    0.5           0.05            0.0    0.0    0.0  0.0  \n",
       "10      0    0.5           0.05            0.0    0.0    0.0  0.0  \n",
       "11      0    0.5           0.05            0.0    0.0    0.0  0.0  "
      ]
     },
     "execution_count": 5,
     "metadata": {},
     "output_type": "execute_result"
    }
   ],
   "source": [
    "data"
   ]
  },
  {
   "cell_type": "code",
   "execution_count": 6,
   "id": "943d8f60",
   "metadata": {},
   "outputs": [
    {
     "data": {
      "text/plain": [
       "(15,)"
      ]
     },
     "execution_count": 6,
     "metadata": {},
     "output_type": "execute_result"
    }
   ],
   "source": [
    "env.observation_space.shape"
   ]
  },
  {
   "cell_type": "code",
   "execution_count": 7,
   "id": "0b67b40f",
   "metadata": {},
   "outputs": [],
   "source": [
    "# net is the shared head of the actor and the critic\n",
    "hidden_sizes = [64,64]\n",
    "lr_optimizer = 1e-4\n",
    "\n",
    "net = Net(\n",
    "    env.observation_space.shape, \n",
    "    hidden_sizes=hidden_sizes, \n",
    "    device=device\n",
    "    )\n",
    "\n",
    "actor = Actor(net, 3, device=device).to(device)\n",
    "#actor = Actor(net, env.action_space.n, device=device).to(device)\n",
    "\n",
    "critic = Critic(net, device=device).to(device)\n",
    "actor_critic = ActorCritic(actor, critic)\n",
    "\n",
    "# optimizer of the actor and the critic\n",
    "optim = torch.optim.Adam(actor_critic.parameters(), lr=lr_optimizer)"
   ]
  },
  {
   "cell_type": "code",
   "execution_count": 8,
   "id": "a0eddb69",
   "metadata": {},
   "outputs": [
    {
     "name": "stdout",
     "output_type": "stream",
     "text": [
      "Discrete(3)\n"
     ]
    }
   ],
   "source": [
    "print(env.action_space)"
   ]
  },
  {
   "cell_type": "code",
   "execution_count": 9,
   "id": "6b7941a5",
   "metadata": {},
   "outputs": [],
   "source": [
    "# Since environment action space is discrete \n",
    "dist = torch.distributions.Categorical\n",
    "policy = PPOPolicy(\n",
    "    actor, \n",
    "    critic, \n",
    "    optim, \n",
    "    dist, \n",
    "    action_space=env.action_space, \n",
    "    deterministic_eval=True\n",
    ")"
   ]
  },
  {
   "cell_type": "code",
   "execution_count": 10,
   "id": "3661bb91",
   "metadata": {},
   "outputs": [],
   "source": [
    "n_steps = 5000\n",
    "n_max_epochs = 20\n",
    "rep_per_collector = 10\n",
    "eps_per_test = 10\n",
    "batch_size = 256\n",
    "n_steps_per_collect = 2000\n",
    "reward_stop = 4\n"
   ]
  },
  {
   "cell_type": "code",
   "execution_count": 11,
   "id": "00afb50c",
   "metadata": {},
   "outputs": [
    {
     "name": "stdout",
     "output_type": "stream",
     "text": [
      "10000\n"
     ]
    }
   ],
   "source": [
    "buffer_train = PrioritizedVectorReplayBuffer(total_size = 10000, buffer_num = len(train_envs), alpha=0.8, beta=0.5, ignore_obs_next=True)\n",
    "train_collector = Collector(policy, train_envs, buffer_train)\n",
    "test_collector = Collector(policy, test_envs)\n",
    "\n",
    "output = train_collector.collect(\n",
    "    n_step=batch_size * 2880\n",
    ")\n",
    "print(len(buffer_train))"
   ]
  },
  {
   "cell_type": "markdown",
   "id": "8ccff083",
   "metadata": {},
   "source": [
    "We have the Vector Replay Buffer, with:\n",
    "\n",
    "- total_size = the total size of VectorReplayBuffer. = 10,000 = len(buffer_train)\n",
    "- buffer_num (the number of ReplayBuffer's it uses,) = len(train_envs) = 10\n",
    "\n",
    "Basically, the buffer will contain as many steps as total_size. \n",
    "buffer_num is the number of parallel buffer objects to create. \n",
    "Each of these vectorised buffers will be of length=int(np.ceil(total_size / buffer_num)). \n",
    "\n",
    "With n_step in the collector = batch_size * 288 = 7328\n",
    "\n",
    "note for the collector:\n",
    "- n/ep = 6700 = 256 * 288 / 11 (batch size * 288 / 11)\n",
    "- n/st = 7370 = n/ep * 11"
   ]
  },
  {
   "cell_type": "code",
   "execution_count": 54,
   "id": "ee3435bd",
   "metadata": {},
   "outputs": [
    {
     "data": {
      "text/plain": [
       "{'n/ep': 67020,\n",
       " 'n/st': 737280,\n",
       " 'rews': array([ 1.775     , -0.15      , -0.15      , ..., -2.23055556,\n",
       "        -2.2       ,  1.725     ]),\n",
       " 'lens': array([11, 11, 11, ..., 11, 11, 11]),\n",
       " 'idxs': array([   0, 1000, 2000, ..., 7711, 8711, 9711]),\n",
       " 'rew': -1.439542464006227,\n",
       " 'len': 11.0,\n",
       " 'rew_std': 2.0833047855094864,\n",
       " 'len_std': 0.0}"
      ]
     },
     "execution_count": 54,
     "metadata": {},
     "output_type": "execute_result"
    }
   ],
   "source": [
    "output"
   ]
  },
  {
   "cell_type": "code",
   "execution_count": 50,
   "id": "a848d65a",
   "metadata": {},
   "outputs": [
    {
     "data": {
      "text/plain": [
       "10000"
      ]
     },
     "execution_count": 50,
     "metadata": {},
     "output_type": "execute_result"
    }
   ],
   "source": [
    "len(buffer_train.act)"
   ]
  },
  {
   "cell_type": "code",
   "execution_count": 45,
   "id": "47e2c378",
   "metadata": {},
   "outputs": [
    {
     "name": "stdout",
     "output_type": "stream",
     "text": [
      "Action: 0.0000: 3989\n",
      "Action: 1.0000: 3006\n",
      "Action: 2.0000: 3005\n"
     ]
    },
    {
     "data": {
      "text/plain": [
       "[None, None, None]"
      ]
     },
     "execution_count": 45,
     "metadata": {},
     "output_type": "execute_result"
    }
   ],
   "source": [
    "unique, counts = np.unique(buffer_train.act, return_counts=True)\n",
    "[print(f\"Action: {unique[i]:.4f}, Counts: {counts[i]}\") for i in range(len(unique))]"
   ]
  },
  {
   "cell_type": "code",
   "execution_count": 31,
   "id": "1860809d",
   "metadata": {},
   "outputs": [],
   "source": [
    "a = {\"a1\":[1], 'a2':[2]}\n",
    "b = {\"b1\":[1], 'b2':[2]}"
   ]
  },
  {
   "cell_type": "code",
   "execution_count": 35,
   "id": "50963fca",
   "metadata": {},
   "outputs": [],
   "source": [
    "c = a | b"
   ]
  },
  {
   "cell_type": "code",
   "execution_count": 37,
   "id": "a0cbd92b",
   "metadata": {},
   "outputs": [
    {
     "data": {
      "text/plain": [
       "dict_keys(['a1', 'a2', 'b1', 'b2'])"
      ]
     },
     "execution_count": 37,
     "metadata": {},
     "output_type": "execute_result"
    }
   ],
   "source": [
    "c.keys()"
   ]
  },
  {
   "cell_type": "code",
   "execution_count": null,
   "id": "500448ee",
   "metadata": {},
   "outputs": [],
   "source": []
  },
  {
   "cell_type": "code",
   "execution_count": 16,
   "id": "29a53ada-bdb6-41c1-bb01-43b7293b7220",
   "metadata": {},
   "outputs": [
    {
     "data": {
      "text/plain": [
       "PrioritizedVectorReplayBuffer(\n",
       "    act: array([0, 0, 2, ..., 2, 0, 1]),\n",
       "    info: Batch(\n",
       "              net: array([-0.5, -0.5,  1.5, ..., -0.5, -0.5,  0.5]),\n",
       "              cumulative_reward: array([-0.025, -0.025, -3.025, ..., -0.025, -0.025, -0.05 ]),\n",
       "              bat_output: array([-1., -1.,  1., ...,  1., -1.,  0.]),\n",
       "              tick: array([5, 6, 7, ..., 2, 3, 4]),\n",
       "              action: array([0, 0, 2, ..., 2, 0, 1]),\n",
       "              reward: array([ 0.   ,  0.   , -3.   , ...,  0.   ,  0.   , -0.025]),\n",
       "              env_id: array([0, 0, 0, ..., 9, 9, 9]),\n",
       "              updated_action: array([-1., -1.,  1., ...,  1., -1.,  0.]),\n",
       "          ),\n",
       "    terminated: array([False, False, False, ..., False, False, False]),\n",
       "    truncated: array([False, False, False, ..., False, False, False]),\n",
       "    done: array([False, False, False, ..., False, False, False]),\n",
       "    policy: Batch(),\n",
       "    rew: array([ 0.   ,  0.   , -3.   , ...,  0.   ,  0.   , -0.025]),\n",
       "    obs: array([[ 0.866     , -0.5       ,  0.        , ..., -1.        ,\n",
       "                  1.        ,  0.89459074],\n",
       "                [ 0.5       , -0.866     ,  0.        , ..., -1.        ,\n",
       "                  1.        ,  0.7891815 ],\n",
       "                [ 0.        , -1.        ,  0.        , ..., -1.        ,\n",
       "                  1.        ,  0.6837722 ],\n",
       "                ...,\n",
       "                [ 0.5       ,  0.866     ,  0.        , ..., -1.        ,\n",
       "                  0.        ,  1.        ],\n",
       "                [ 0.866     ,  0.5       ,  0.        , ..., -1.        ,\n",
       "                  1.        ,  0.89459074],\n",
       "                [ 1.        ,  0.        ,  0.        , ..., -1.        ,\n",
       "                  0.11111111,  0.9894591 ]], dtype=float32),\n",
       ")"
      ]
     },
     "execution_count": 16,
     "metadata": {},
     "output_type": "execute_result"
    }
   ],
   "source": [
    "buffer_train\n",
    "#len(buffer_train.info.reward)"
   ]
  },
  {
   "cell_type": "code",
   "execution_count": 23,
   "id": "ba2daaaf-a55a-4e66-9c0b-3078eb527193",
   "metadata": {},
   "outputs": [
    {
     "data": {
      "text/plain": [
       "(10000, 15)"
      ]
     },
     "execution_count": 23,
     "metadata": {},
     "output_type": "execute_result"
    }
   ],
   "source": [
    "buffer_train.obs.shape"
   ]
  },
  {
   "cell_type": "code",
   "execution_count": 40,
   "id": "ab6fb168-b606-4be9-9221-93c8e06f6784",
   "metadata": {},
   "outputs": [
    {
     "data": {
      "text/plain": [
       "100000000"
      ]
     },
     "execution_count": 40,
     "metadata": {},
     "output_type": "execute_result"
    }
   ],
   "source": [
    "len(buffer_train.info.reward)"
   ]
  },
  {
   "cell_type": "markdown",
   "id": "58943b6f-bd32-426c-ae0c-6f63bd293ad7",
   "metadata": {},
   "source": []
  },
  {
   "cell_type": "code",
   "execution_count": 31,
   "id": "6ca8954d",
   "metadata": {},
   "outputs": [
    {
     "data": {
      "text/plain": [
       "(array([ 2771.,   646., 10325.,    44., 19930.,  5346.,   698., 17187.,\n",
       "            0., 10073.]),\n",
       " array([-6.27777778, -5.45      , -4.62222223, -3.79444445, -2.96666667,\n",
       "        -2.13888889, -1.31111111, -0.48333333,  0.34444444,  1.17222222,\n",
       "         2.        ]),\n",
       " <BarContainer object of 10 artists>)"
      ]
     },
     "execution_count": 31,
     "metadata": {},
     "output_type": "execute_result"
    },
    {
     "data": {
      "image/png": "[encoded data removed]",
      "text/plain": [
       "<Figure size 640x480 with 1 Axes>"
      ]
     },
     "metadata": {},
     "output_type": "display_data"
    }
   ],
   "source": [
    "import matplotlib.pyplot as plt\n",
    "plt.hist(output['rews'])"
   ]
  },
  {
   "cell_type": "code",
   "execution_count": 36,
   "id": "e98a8911",
   "metadata": {},
   "outputs": [
    {
     "data": {
      "text/plain": [
       "array([1, 1, 0, 1, 2, 1, 2, 2, 0, 1])"
      ]
     },
     "execution_count": 36,
     "metadata": {},
     "output_type": "execute_result"
    }
   ],
   "source": [
    "buffer_train.act"
   ]
  },
  {
   "cell_type": "code",
   "execution_count": null,
   "id": "d8acceb4",
   "metadata": {},
   "outputs": [],
   "source": []
  },
  {
   "cell_type": "code",
   "execution_count": 48,
   "id": "d3bc87e1",
   "metadata": {},
   "outputs": [
    {
     "name": "stderr",
     "output_type": "stream",
     "text": [
      "Epoch #1: 6000it [00:00, 11275.15it/s, env_step=6000, len=11, loss=0.703, loss/clip=-0.004, loss/ent=1.096, loss/vf=1.436, n/ep=180, n/st=2000, rew=-1.74]                           \n"
     ]
    },
    {
     "name": "stdout",
     "output_type": "stream",
     "text": [
      "Epoch #1: test_reward: 1.974342 ± 0.000000, best_reward: 1.974342 ± 0.000000 in #0\n"
     ]
    },
    {
     "name": "stderr",
     "output_type": "stream",
     "text": [
      "Epoch #2: 6000it [00:00, 11023.99it/s, env_step=12000, len=11, loss=0.347, loss/clip=-0.003, loss/ent=1.096, loss/vf=0.723, n/ep=180, n/st=2000, rew=-1.42]                          \n"
     ]
    },
    {
     "name": "stdout",
     "output_type": "stream",
     "text": [
      "Epoch #2: test_reward: 1.974342 ± 0.000000, best_reward: 1.974342 ± 0.000000 in #0\n"
     ]
    },
    {
     "name": "stderr",
     "output_type": "stream",
     "text": [
      "Epoch #3: 6000it [00:00, 11462.86it/s, env_step=18000, len=11, loss=0.379, loss/clip=-0.004, loss/ent=1.094, loss/vf=0.788, n/ep=180, n/st=2000, rew=-1.65]                          \n"
     ]
    },
    {
     "name": "stdout",
     "output_type": "stream",
     "text": [
      "Epoch #3: test_reward: 1.974342 ± 0.000000, best_reward: 1.974342 ± 0.000000 in #0\n"
     ]
    },
    {
     "name": "stderr",
     "output_type": "stream",
     "text": [
      "Epoch #4: 6000it [00:00, 11845.58it/s, env_step=24000, len=11, loss=0.257, loss/clip=-0.005, loss/ent=1.091, loss/vf=0.546, n/ep=180, n/st=2000, rew=-1.40]                          \n"
     ]
    },
    {
     "name": "stdout",
     "output_type": "stream",
     "text": [
      "Epoch #4: test_reward: 1.974342 ± 0.000000, best_reward: 1.974342 ± 0.000000 in #0\n"
     ]
    },
    {
     "name": "stderr",
     "output_type": "stream",
     "text": [
      "Epoch #5: 6000it [00:00, 11487.70it/s, env_step=30000, len=11, loss=0.349, loss/clip=-0.005, loss/ent=1.085, loss/vf=0.729, n/ep=190, n/st=2000, rew=-1.41]                          \n"
     ]
    },
    {
     "name": "stdout",
     "output_type": "stream",
     "text": [
      "Epoch #5: test_reward: 1.974342 ± 0.000000, best_reward: 1.974342 ± 0.000000 in #0\n"
     ]
    },
    {
     "name": "stderr",
     "output_type": "stream",
     "text": [
      "Epoch #6: 6000it [00:00, 11522.14it/s, env_step=36000, len=11, loss=0.211, loss/clip=-0.005, loss/ent=1.076, loss/vf=0.454, n/ep=180, n/st=2000, rew=-0.93]                          \n"
     ]
    },
    {
     "name": "stdout",
     "output_type": "stream",
     "text": [
      "Epoch #6: test_reward: 1.974342 ± 0.000000, best_reward: 1.974342 ± 0.000000 in #0\n"
     ]
    },
    {
     "name": "stderr",
     "output_type": "stream",
     "text": [
      "Epoch #7: 6000it [00:00, 11729.50it/s, env_step=42000, len=11, loss=0.367, loss/clip=-0.006, loss/ent=1.064, loss/vf=0.767, n/ep=190, n/st=2000, rew=-0.94]                          \n"
     ]
    },
    {
     "name": "stdout",
     "output_type": "stream",
     "text": [
      "Epoch #7: test_reward: 1.974342 ± 0.000000, best_reward: 1.974342 ± 0.000000 in #0\n"
     ]
    },
    {
     "name": "stderr",
     "output_type": "stream",
     "text": [
      "Epoch #8: 6000it [00:00, 11554.85it/s, env_step=48000, len=11, loss=0.205, loss/clip=-0.006, loss/ent=1.046, loss/vf=0.444, n/ep=180, n/st=2000, rew=-0.61]                          \n"
     ]
    },
    {
     "name": "stdout",
     "output_type": "stream",
     "text": [
      "Epoch #8: test_reward: 1.974342 ± 0.000000, best_reward: 1.974342 ± 0.000000 in #0\n"
     ]
    },
    {
     "name": "stderr",
     "output_type": "stream",
     "text": [
      "Epoch #9: 6000it [00:00, 11901.74it/s, env_step=54000, len=11, loss=0.232, loss/clip=-0.009, loss/ent=1.017, loss/vf=0.503, n/ep=180, n/st=2000, rew=-0.39]                          \n"
     ]
    },
    {
     "name": "stdout",
     "output_type": "stream",
     "text": [
      "Epoch #9: test_reward: 1.974342 ± 0.000000, best_reward: 1.974342 ± 0.000000 in #0\n"
     ]
    },
    {
     "name": "stderr",
     "output_type": "stream",
     "text": [
      "Epoch #10: 6000it [00:00, 11334.01it/s, env_step=60000, len=11, loss=0.176, loss/clip=-0.009, loss/ent=0.976, loss/vf=0.388, n/ep=180, n/st=2000, rew=0.08]                           \n"
     ]
    },
    {
     "name": "stdout",
     "output_type": "stream",
     "text": [
      "Epoch #10: test_reward: 1.974342 ± 0.000000, best_reward: 1.974342 ± 0.000000 in #0\n"
     ]
    },
    {
     "name": "stderr",
     "output_type": "stream",
     "text": [
      "Epoch #11: 6000it [00:00, 10973.27it/s, env_step=66000, len=11, loss=0.175, loss/clip=-0.009, loss/ent=0.926, loss/vf=0.388, n/ep=180, n/st=2000, rew=0.34]                          \n"
     ]
    },
    {
     "name": "stdout",
     "output_type": "stream",
     "text": [
      "Epoch #11: test_reward: 1.974342 ± 0.000000, best_reward: 1.974342 ± 0.000000 in #0\n"
     ]
    },
    {
     "name": "stderr",
     "output_type": "stream",
     "text": [
      "Epoch #12: 6000it [00:00, 9943.49it/s, env_step=72000, len=11, loss=0.153, loss/clip=-0.009, loss/ent=0.850, loss/vf=0.341, n/ep=180, n/st=2000, rew=0.67]                           \n"
     ]
    },
    {
     "name": "stdout",
     "output_type": "stream",
     "text": [
      "Epoch #12: test_reward: 1.974342 ± 0.000000, best_reward: 1.974342 ± 0.000000 in #0\n"
     ]
    },
    {
     "name": "stderr",
     "output_type": "stream",
     "text": [
      "Epoch #13: 6000it [00:00, 10235.41it/s, env_step=78000, len=11, loss=0.152, loss/clip=-0.010, loss/ent=0.782, loss/vf=0.341, n/ep=180, n/st=2000, rew=0.79]                          \n"
     ]
    },
    {
     "name": "stdout",
     "output_type": "stream",
     "text": [
      "Epoch #13: test_reward: 1.974342 ± 0.000000, best_reward: 1.974342 ± 0.000000 in #0\n"
     ]
    },
    {
     "name": "stderr",
     "output_type": "stream",
     "text": [
      "Epoch #14: 6000it [00:00, 9612.20it/s, env_step=84000, len=11, loss=0.155, loss/clip=-0.011, loss/ent=0.682, loss/vf=0.345, n/ep=180, n/st=2000, rew=1.31]                          \n"
     ]
    },
    {
     "name": "stdout",
     "output_type": "stream",
     "text": [
      "Epoch #14: test_reward: 1.974342 ± 0.000000, best_reward: 1.974342 ± 0.000000 in #0\n"
     ]
    },
    {
     "name": "stderr",
     "output_type": "stream",
     "text": [
      "Epoch #15: 6000it [00:00, 11582.20it/s, env_step=90000, len=11, loss=0.111, loss/clip=-0.010, loss/ent=0.597, loss/vf=0.254, n/ep=180, n/st=2000, rew=1.19]                          \n"
     ]
    },
    {
     "name": "stdout",
     "output_type": "stream",
     "text": [
      "Epoch #15: test_reward: 1.974342 ± 0.000000, best_reward: 1.974342 ± 0.000000 in #0\n"
     ]
    },
    {
     "name": "stderr",
     "output_type": "stream",
     "text": [
      "Epoch #16: 6000it [00:00, 10134.60it/s, env_step=96000, len=11, loss=0.201, loss/clip=-0.009, loss/ent=0.508, loss/vf=0.429, n/ep=190, n/st=2000, rew=1.68]                          \n"
     ]
    },
    {
     "name": "stdout",
     "output_type": "stream",
     "text": [
      "Epoch #16: test_reward: 1.974342 ± 0.000000, best_reward: 1.974342 ± 0.000000 in #0\n"
     ]
    },
    {
     "name": "stderr",
     "output_type": "stream",
     "text": [
      "Epoch #17: 6000it [00:00, 9922.93it/s, env_step=102000, len=11, loss=0.104, loss/clip=-0.006, loss/ent=0.440, loss/vf=0.228, n/ep=180, n/st=2000, rew=1.32]                           \n"
     ]
    },
    {
     "name": "stdout",
     "output_type": "stream",
     "text": [
      "Epoch #17: test_reward: 1.974342 ± 0.000000, best_reward: 1.974342 ± 0.000000 in #0\n"
     ]
    },
    {
     "name": "stderr",
     "output_type": "stream",
     "text": [
      "Epoch #18: 6000it [00:00, 10355.25it/s, env_step=108000, len=11, loss=0.226, loss/clip=-0.006, loss/ent=0.377, loss/vf=0.472, n/ep=190, n/st=2000, rew=1.74]                          \n"
     ]
    },
    {
     "name": "stdout",
     "output_type": "stream",
     "text": [
      "Epoch #18: test_reward: 1.974342 ± 0.000000, best_reward: 1.974342 ± 0.000000 in #0\n"
     ]
    },
    {
     "name": "stderr",
     "output_type": "stream",
     "text": [
      "Epoch #19: 6000it [00:00, 10709.18it/s, env_step=114000, len=11, loss=0.186, loss/clip=-0.004, loss/ent=0.326, loss/vf=0.386, n/ep=180, n/st=2000, rew=1.72]                          \n"
     ]
    },
    {
     "name": "stdout",
     "output_type": "stream",
     "text": [
      "Epoch #19: test_reward: 1.974342 ± 0.000000, best_reward: 1.974342 ± 0.000000 in #0\n"
     ]
    },
    {
     "name": "stderr",
     "output_type": "stream",
     "text": [
      "Epoch #20: 6000it [00:00, 11106.35it/s, env_step=120000, len=11, loss=0.212, loss/clip=-0.003, loss/ent=0.281, loss/vf=0.434, n/ep=180, n/st=2000, rew=1.72]                          \n"
     ]
    },
    {
     "name": "stdout",
     "output_type": "stream",
     "text": [
      "Epoch #20: test_reward: 1.974342 ± 0.000000, best_reward: 1.974342 ± 0.000000 in #0\n"
     ]
    }
   ],
   "source": [
    "result = onpolicy_trainer(\n",
    "    policy,\n",
    "    train_collector,\n",
    "    test_collector,\n",
    "    max_epoch=n_max_epochs,\n",
    "    step_per_epoch=n_steps,\n",
    "    repeat_per_collect=rep_per_collector,\n",
    "    episode_per_test=eps_per_test,\n",
    "    batch_size=batch_size,\n",
    "    step_per_collect= n_steps_per_collect,\n",
    "    stop_fn=lambda mean_reward: mean_reward >= reward_stop,\n",
    "    logger=logger,\n",
    "    verbose=True\n",
    "    )"
   ]
  },
  {
   "cell_type": "code",
   "execution_count": 32,
   "id": "9b74dcb9",
   "metadata": {},
   "outputs": [
    {
     "name": "stdout",
     "output_type": "stream",
     "text": [
      "Final reward: 2.0, length: 11.0\n"
     ]
    }
   ],
   "source": [
    "# Let's watch its performance!\n",
    "policy.eval()\n",
    "result = test_collector.collect(n_episode=1, render=False)\n",
    "print(\"Final reward: {}, length: {}\".format(result[\"rews\"].mean(), result[\"lens\"].mean()))"
   ]
  },
  {
   "cell_type": "code",
   "execution_count": 26,
   "id": "89b80808",
   "metadata": {},
   "outputs": [
    {
     "name": "stdout",
     "output_type": "stream",
     "text": [
      "{'n/ep': 1, 'n/st': 11, 'rews': array([2.]), 'lens': array([11]), 'idxs': array([0]), 'rew': 2.0, 'len': 11.0, 'rew_std': 0.0, 'len_std': 0.0}\n"
     ]
    }
   ],
   "source": [
    "print(result)"
   ]
  },
  {
   "cell_type": "code",
   "execution_count": 27,
   "id": "3b2a3b9b-6c71-4dc3-aa5b-e82f202e4c62",
   "metadata": {},
   "outputs": [],
   "source": [
    "## Not in dcs - also not sure if required. \n",
    "logger.wandb_run.finish()"
   ]
  }
 ],
 "metadata": {
  "kernelspec": {
   "display_name": "Python 3 (ipykernel)",
   "language": "python",
   "name": "python3"
  },
  "language_info": {
   "codemirror_mode": {
    "name": "ipython",
    "version": 3
   },
   "file_extension": ".py",
   "mimetype": "text/x-python",
   "name": "python",
   "nbconvert_exporter": "python",
   "pygments_lexer": "ipython3",
   "version": "3.10.6"
  },
  "vscode": {
   "interpreter": {
    "hash": "a863a74765bf0c3fe50d1b3d9f296fe0cd846a803cf5e7d56750d3cf2026663d"
   }
  }
 },
 "nbformat": 4,
 "nbformat_minor": 5
}

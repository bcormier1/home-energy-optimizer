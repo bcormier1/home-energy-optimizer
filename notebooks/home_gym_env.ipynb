{
 "cells": [
  {
   "cell_type": "code",
   "execution_count": 1,
   "id": "85edc9bd",
   "metadata": {},
   "outputs": [],
   "source": [
    "from stable_baselines3.common.env_checker import check_env\n",
    "from gym import spaces\n",
    "from brody_homer_env import HomerEnv"
   ]
  },
  {
   "cell_type": "code",
   "execution_count": 2,
   "id": "c2992d4c",
   "metadata": {},
   "outputs": [],
   "source": [
    "env = HomerEnv()"
   ]
  },
  {
   "cell_type": "code",
   "execution_count": 3,
   "id": "be4bc88c",
   "metadata": {},
   "outputs": [
    {
     "name": "stdout",
     "output_type": "stream",
     "text": [
      "obs[0]: 0, obs[1]: 0\n",
      "total_energy: 0.41666666666666663\n",
      "obs[0]: 0, obs[1]: 0\n",
      "total_energy: 0.41666666666666663\n",
      "Output Energy: [0.00399458]\n",
      "Available Capacity: 0\n",
      "energy prior to sell: 0.41666666666666663\n",
      "sell: [0.00399458]\n",
      "reward: 0.0039945789612829685\n",
      "obs[0]: 0, obs[1]: 0\n",
      "total_energy: 0.41666666666666663\n",
      "Output Energy: [0.13360739]\n",
      "Available Capacity: 0\n",
      "energy prior to sell: 0.41666666666666663\n",
      "sell: [0.13360739]\n",
      "reward: 0.1336073875427246\n",
      "obs[0]: 0, obs[1]: 0\n",
      "total_energy: 0.41666666666666663\n",
      "Output Energy: [0.34961885]\n",
      "Available Capacity: 0\n",
      "energy prior to sell: 0.41666666666666663\n",
      "sell: [0.34961885]\n",
      "reward: 0.3496188521385193\n",
      "obs[0]: 0, obs[1]: 0\n",
      "total_energy: 0.41666666666666663\n",
      "Output Energy: [0.40165472]\n",
      "Available Capacity: 0\n",
      "energy prior to sell: 0.41666666666666663\n",
      "sell: [0.40165472]\n",
      "reward: 0.4016547203063965\n",
      "obs[0]: 0, obs[1]: 0\n",
      "total_energy: 0.41666666666666663\n",
      "Output Energy: [0.32932523]\n",
      "Available Capacity: 0\n",
      "energy prior to sell: 0.41666666666666663\n",
      "sell: [0.32932523]\n",
      "reward: 0.32932522892951965\n",
      "obs[0]: 0, obs[1]: 0\n",
      "total_energy: 0.41666666666666663\n",
      "Output Energy: [0.374417]\n",
      "Available Capacity: 0\n",
      "energy prior to sell: 0.41666666666666663\n",
      "sell: [0.374417]\n",
      "reward: 0.3744170069694519\n",
      "obs[0]: 0, obs[1]: 0\n",
      "total_energy: 0.41666666666666663\n",
      "Output Energy: [0.02995378]\n",
      "Available Capacity: 0\n",
      "energy prior to sell: 0.41666666666666663\n",
      "sell: [0.02995377]\n",
      "reward: 0.029953766614198685\n",
      "obs[0]: 0, obs[1]: 0\n",
      "total_energy: 0.41666666666666663\n",
      "Output Energy: [0.3551128]\n",
      "Available Capacity: 0\n",
      "energy prior to sell: 0.41666666666666663\n",
      "sell: [0.3551128]\n",
      "reward: 0.35511279106140137\n",
      "obs[0]: 0, obs[1]: 0\n",
      "total_energy: 0.41666666666666663\n",
      "Output Energy: [0.19137846]\n",
      "Available Capacity: 0\n",
      "energy prior to sell: 0.41666666666666663\n",
      "sell: [0.19137846]\n",
      "reward: 0.19137845933437347\n",
      "obs[0]: 0, obs[1]: 0\n",
      "total_energy: 0.41666666666666663\n",
      "Output Energy: [0.01504487]\n",
      "Available Capacity: 0\n",
      "energy prior to sell: 0.41666666666666663\n",
      "sell: [0.01504486]\n",
      "reward: 0.015044857747852802\n",
      "obs[0]: 0, obs[1]: 0\n",
      "total_energy: 0.41666666666666663\n",
      "Output Energy: [0.22056267]\n",
      "Available Capacity: 0\n",
      "energy prior to sell: 0.41666666666666663\n",
      "sell: [0.22056267]\n",
      "reward: 0.2205626666545868\n"
     ]
    },
    {
     "name": "stderr",
     "output_type": "stream",
     "text": [
      "/Users/brody/school/cap_ve/lib/python3.10/site-packages/stable_baselines3/common/env_checker.py:286: UserWarning: We recommend you to use a symmetric and normalized Box action space (range=[-1, 1]) cf https://stable-baselines3.readthedocs.io/en/master/guide/rl_tips.html\n",
      "  warnings.warn(\n"
     ]
    }
   ],
   "source": [
    "check_env(env, warn=True)"
   ]
  },
  {
   "cell_type": "code",
   "execution_count": 4,
   "id": "ea1bee24",
   "metadata": {},
   "outputs": [],
   "source": [
    "b = spaces.Box(-1, 1, shape=(3,), dtype=int)"
   ]
  },
  {
   "cell_type": "code",
   "execution_count": 5,
   "id": "37df975b",
   "metadata": {},
   "outputs": [],
   "source": [
    "s = b.sample()"
   ]
  },
  {
   "cell_type": "code",
   "execution_count": 6,
   "id": "352fb68e",
   "metadata": {},
   "outputs": [
    {
     "data": {
      "text/plain": [
       "-1"
      ]
     },
     "execution_count": 6,
     "metadata": {},
     "output_type": "execute_result"
    }
   ],
   "source": [
    "s[0]"
   ]
  },
  {
   "cell_type": "code",
   "execution_count": null,
   "id": "768d1cde",
   "metadata": {},
   "outputs": [],
   "source": []
  }
 ],
 "metadata": {
  "kernelspec": {
   "display_name": "Python 3 (ipykernel)",
   "language": "python",
   "name": "python3"
  },
  "language_info": {
   "codemirror_mode": {
    "name": "ipython",
    "version": 3
   },
   "file_extension": ".py",
   "mimetype": "text/x-python",
   "name": "python",
   "nbconvert_exporter": "python",
   "pygments_lexer": "ipython3",
   "version": "3.10.0"
  }
 },
 "nbformat": 4,
 "nbformat_minor": 5
}

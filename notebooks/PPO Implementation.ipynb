{
 "cells": [
  {
   "cell_type": "code",
   "execution_count": 1,
   "id": "9289f927",
   "metadata": {},
   "outputs": [],
   "source": [
    "import sys, os\n",
    "parent_dir = os.getcwd()\n",
    "path = os.path.dirname(parent_dir)\n",
    "sys.path.append(path)\n",
    "\n",
    "from gym_homer.envs.test_env_v00 import HomerEnv\n",
    "import pandas as pd\n",
    "import numpy as np\n",
    "\n",
    "import torch\n",
    "import gym\n",
    "from gym import spaces, wrappers\n",
    "import envpool\n",
    "\n",
    "from tianshou.utils import WandbLogger\n",
    "from torch.utils.tensorboard import SummaryWriter\n",
    "\n",
    "from tianshou.data import Collector, VectorReplayBuffer, AsyncCollector\n",
    "from tianshou.env import DummyVectorEnv, SubprocVectorEnv, ShmemVectorEnv\n",
    "from tianshou.policy import PPOPolicy\n",
    "from tianshou.trainer import onpolicy_trainer\n",
    "from tianshou.utils.net.common import ActorCritic, Net\n",
    "from tianshou.utils.net.discrete import Actor, Critic\n",
    "\n",
    "import warnings\n",
    "warnings.filterwarnings('ignore')\n",
    "\n",
    "device = 'cuda' if torch.cuda.is_available() else 'cpu'\n",
    "i=0"
   ]
  },
  {
   "cell_type": "code",
   "execution_count": 2,
   "id": "41a8882d-e0d0-42de-92eb-85dd71728230",
   "metadata": {},
   "outputs": [
    {
     "data": {
      "text/plain": [
       "'/home/ds1/w210/home-energy-optimizer'"
      ]
     },
     "execution_count": 2,
     "metadata": {},
     "output_type": "execute_result"
    }
   ],
   "source": [
    "path"
   ]
  },
  {
   "cell_type": "code",
   "execution_count": 3,
   "id": "cf7175e3-852d-4f2b-a492-c804acd76f38",
   "metadata": {},
   "outputs": [
    {
     "name": "stderr",
     "output_type": "stream",
     "text": [
      "\u001b[34m\u001b[1mwandb\u001b[0m: Currently logged in as: \u001b[33matox120\u001b[0m (\u001b[33mw266_wra\u001b[0m). Use \u001b[1m`wandb login --relogin`\u001b[0m to force relogin\n"
     ]
    },
    {
     "data": {
      "text/html": [
       "wandb version 0.13.5 is available!  To upgrade, please run:\n",
       " $ pip install wandb --upgrade"
      ],
      "text/plain": [
       "<IPython.core.display.HTML object>"
      ]
     },
     "metadata": {},
     "output_type": "display_data"
    },
    {
     "data": {
      "text/html": [
       "Tracking run with wandb version 0.13.4"
      ],
      "text/plain": [
       "<IPython.core.display.HTML object>"
      ]
     },
     "metadata": {},
     "output_type": "display_data"
    },
    {
     "data": {
      "text/html": [
       "Run data is saved locally in <code>/home/ds1/w210/home-energy-optimizer/notebooks/wandb/run-20221116_154540-a9rj17gy</code>"
      ],
      "text/plain": [
       "<IPython.core.display.HTML object>"
      ]
     },
     "metadata": {},
     "output_type": "display_data"
    },
    {
     "data": {
      "text/html": [
       "Syncing run <strong><a href=\"https://wandb.ai/w266_wra/RL_project/runs/a9rj17gy\" target=\"_blank\">debug_0</a></strong> to <a href=\"https://wandb.ai/w266_wra/RL_project\" target=\"_blank\">Weights & Biases</a> (<a href=\"https://wandb.me/run\" target=\"_blank\">docs</a>)<br/>"
      ],
      "text/plain": [
       "<IPython.core.display.HTML object>"
      ]
     },
     "metadata": {},
     "output_type": "display_data"
    },
    {
     "name": "stderr",
     "output_type": "stream",
     "text": [
      "\u001b[34m\u001b[1mwandb\u001b[0m: \u001b[33mWARNING\u001b[0m Found log directory outside of given root_logdir, dropping given root_logdir for event file in /home/ds1/w210/home-energy-optimizer/logs/\n"
     ]
    }
   ],
   "source": [
    "log_path = path+'/logs/'\n",
    "logger = WandbLogger(\n",
    "    project=\"RL_project\", \n",
    "    entity=\"w266_wra\",\n",
    "    name=f'debug_{i}',\n",
    "    config=None)\n",
    "logger.load(SummaryWriter(log_path))\n",
    "i += 1"
   ]
  },
  {
   "cell_type": "code",
   "execution_count": 4,
   "id": "379f1ec1",
   "metadata": {},
   "outputs": [],
   "source": [
    "# Load Data\n",
    "data = pd.read_csv(path+\"/test_env_data.csv\", index_col=False).fillna(0)\n",
    "vectorised = False\n",
    "\n",
    "\n",
    "n_train_envs = 10\n",
    "n_test_envs = 10\n",
    "\n",
    "env = HomerEnv(data=data, start_soc='full')\n",
    "train_envs = SubprocVectorEnv([lambda: HomerEnv(data=data, start_soc='full', discrete=True) for _ in range(n_train_envs)])\n",
    "test_envs = SubprocVectorEnv([lambda: HomerEnv(data=data, start_soc='full', discrete=True) for _ in range(n_test_envs)])"
   ]
  },
  {
   "cell_type": "code",
   "execution_count": 5,
   "id": "e1fbacf0",
   "metadata": {},
   "outputs": [
    {
     "data": {
      "text/html": [
       "<div>\n",
       "<style scoped>\n",
       "    .dataframe tbody tr th:only-of-type {\n",
       "        vertical-align: middle;\n",
       "    }\n",
       "\n",
       "    .dataframe tbody tr th {\n",
       "        vertical-align: top;\n",
       "    }\n",
       "\n",
       "    .dataframe thead th {\n",
       "        text-align: right;\n",
       "    }\n",
       "</style>\n",
       "<table border=\"1\" class=\"dataframe\">\n",
       "  <thead>\n",
       "    <tr style=\"text-align: right;\">\n",
       "      <th></th>\n",
       "      <th>time_x</th>\n",
       "      <th>time_y</th>\n",
       "      <th>weekend</th>\n",
       "      <th>month_x</th>\n",
       "      <th>month_y</th>\n",
       "      <th>region_1</th>\n",
       "      <th>region_2</th>\n",
       "      <th>region_3</th>\n",
       "      <th>solar</th>\n",
       "      <th>loads</th>\n",
       "      <th>import_tariff</th>\n",
       "      <th>export_tariff</th>\n",
       "      <th>max_d</th>\n",
       "      <th>max_c</th>\n",
       "      <th>soc</th>\n",
       "    </tr>\n",
       "  </thead>\n",
       "  <tbody>\n",
       "    <tr>\n",
       "      <th>0</th>\n",
       "      <td>0.000</td>\n",
       "      <td>1.000</td>\n",
       "      <td>0</td>\n",
       "      <td>0.0</td>\n",
       "      <td>1.0</td>\n",
       "      <td>0</td>\n",
       "      <td>0</td>\n",
       "      <td>0</td>\n",
       "      <td>0</td>\n",
       "      <td>0.5</td>\n",
       "      <td>0.05</td>\n",
       "      <td>0.0</td>\n",
       "      <td>0.0</td>\n",
       "      <td>0.0</td>\n",
       "      <td>0.0</td>\n",
       "    </tr>\n",
       "    <tr>\n",
       "      <th>1</th>\n",
       "      <td>0.500</td>\n",
       "      <td>0.866</td>\n",
       "      <td>0</td>\n",
       "      <td>0.0</td>\n",
       "      <td>1.0</td>\n",
       "      <td>0</td>\n",
       "      <td>0</td>\n",
       "      <td>0</td>\n",
       "      <td>-2</td>\n",
       "      <td>0.5</td>\n",
       "      <td>0.05</td>\n",
       "      <td>0.0</td>\n",
       "      <td>0.0</td>\n",
       "      <td>0.0</td>\n",
       "      <td>0.0</td>\n",
       "    </tr>\n",
       "    <tr>\n",
       "      <th>2</th>\n",
       "      <td>0.866</td>\n",
       "      <td>0.500</td>\n",
       "      <td>0</td>\n",
       "      <td>0.0</td>\n",
       "      <td>1.0</td>\n",
       "      <td>0</td>\n",
       "      <td>0</td>\n",
       "      <td>0</td>\n",
       "      <td>-2</td>\n",
       "      <td>0.5</td>\n",
       "      <td>0.05</td>\n",
       "      <td>0.0</td>\n",
       "      <td>0.0</td>\n",
       "      <td>0.0</td>\n",
       "      <td>0.0</td>\n",
       "    </tr>\n",
       "    <tr>\n",
       "      <th>3</th>\n",
       "      <td>1.000</td>\n",
       "      <td>0.000</td>\n",
       "      <td>0</td>\n",
       "      <td>0.0</td>\n",
       "      <td>1.0</td>\n",
       "      <td>0</td>\n",
       "      <td>0</td>\n",
       "      <td>0</td>\n",
       "      <td>0</td>\n",
       "      <td>0.5</td>\n",
       "      <td>0.05</td>\n",
       "      <td>0.0</td>\n",
       "      <td>0.0</td>\n",
       "      <td>0.0</td>\n",
       "      <td>0.0</td>\n",
       "    </tr>\n",
       "    <tr>\n",
       "      <th>4</th>\n",
       "      <td>0.866</td>\n",
       "      <td>-0.500</td>\n",
       "      <td>0</td>\n",
       "      <td>0.0</td>\n",
       "      <td>1.0</td>\n",
       "      <td>0</td>\n",
       "      <td>0</td>\n",
       "      <td>0</td>\n",
       "      <td>0</td>\n",
       "      <td>0.5</td>\n",
       "      <td>0.05</td>\n",
       "      <td>0.0</td>\n",
       "      <td>0.0</td>\n",
       "      <td>0.0</td>\n",
       "      <td>0.0</td>\n",
       "    </tr>\n",
       "    <tr>\n",
       "      <th>5</th>\n",
       "      <td>0.500</td>\n",
       "      <td>-0.866</td>\n",
       "      <td>0</td>\n",
       "      <td>0.0</td>\n",
       "      <td>1.0</td>\n",
       "      <td>0</td>\n",
       "      <td>0</td>\n",
       "      <td>0</td>\n",
       "      <td>0</td>\n",
       "      <td>0.5</td>\n",
       "      <td>0.05</td>\n",
       "      <td>0.0</td>\n",
       "      <td>0.0</td>\n",
       "      <td>0.0</td>\n",
       "      <td>0.0</td>\n",
       "    </tr>\n",
       "    <tr>\n",
       "      <th>6</th>\n",
       "      <td>0.000</td>\n",
       "      <td>-1.000</td>\n",
       "      <td>0</td>\n",
       "      <td>0.0</td>\n",
       "      <td>1.0</td>\n",
       "      <td>0</td>\n",
       "      <td>0</td>\n",
       "      <td>0</td>\n",
       "      <td>0</td>\n",
       "      <td>0.5</td>\n",
       "      <td>0.05</td>\n",
       "      <td>0.0</td>\n",
       "      <td>0.0</td>\n",
       "      <td>0.0</td>\n",
       "      <td>0.0</td>\n",
       "    </tr>\n",
       "    <tr>\n",
       "      <th>7</th>\n",
       "      <td>-0.500</td>\n",
       "      <td>-0.866</td>\n",
       "      <td>0</td>\n",
       "      <td>0.0</td>\n",
       "      <td>1.0</td>\n",
       "      <td>0</td>\n",
       "      <td>0</td>\n",
       "      <td>0</td>\n",
       "      <td>0</td>\n",
       "      <td>0.5</td>\n",
       "      <td>2.00</td>\n",
       "      <td>2.0</td>\n",
       "      <td>0.0</td>\n",
       "      <td>0.0</td>\n",
       "      <td>0.0</td>\n",
       "    </tr>\n",
       "    <tr>\n",
       "      <th>8</th>\n",
       "      <td>-0.866</td>\n",
       "      <td>-0.500</td>\n",
       "      <td>0</td>\n",
       "      <td>0.0</td>\n",
       "      <td>1.0</td>\n",
       "      <td>0</td>\n",
       "      <td>0</td>\n",
       "      <td>0</td>\n",
       "      <td>0</td>\n",
       "      <td>0.5</td>\n",
       "      <td>2.00</td>\n",
       "      <td>2.0</td>\n",
       "      <td>0.0</td>\n",
       "      <td>0.0</td>\n",
       "      <td>0.0</td>\n",
       "    </tr>\n",
       "    <tr>\n",
       "      <th>9</th>\n",
       "      <td>-1.000</td>\n",
       "      <td>-0.000</td>\n",
       "      <td>0</td>\n",
       "      <td>0.0</td>\n",
       "      <td>1.0</td>\n",
       "      <td>0</td>\n",
       "      <td>0</td>\n",
       "      <td>0</td>\n",
       "      <td>0</td>\n",
       "      <td>0.5</td>\n",
       "      <td>0.05</td>\n",
       "      <td>0.0</td>\n",
       "      <td>0.0</td>\n",
       "      <td>0.0</td>\n",
       "      <td>0.0</td>\n",
       "    </tr>\n",
       "    <tr>\n",
       "      <th>10</th>\n",
       "      <td>-0.866</td>\n",
       "      <td>0.500</td>\n",
       "      <td>0</td>\n",
       "      <td>0.0</td>\n",
       "      <td>1.0</td>\n",
       "      <td>0</td>\n",
       "      <td>0</td>\n",
       "      <td>0</td>\n",
       "      <td>0</td>\n",
       "      <td>0.5</td>\n",
       "      <td>0.05</td>\n",
       "      <td>0.0</td>\n",
       "      <td>0.0</td>\n",
       "      <td>0.0</td>\n",
       "      <td>0.0</td>\n",
       "    </tr>\n",
       "    <tr>\n",
       "      <th>11</th>\n",
       "      <td>-0.500</td>\n",
       "      <td>0.866</td>\n",
       "      <td>0</td>\n",
       "      <td>0.0</td>\n",
       "      <td>1.0</td>\n",
       "      <td>0</td>\n",
       "      <td>0</td>\n",
       "      <td>0</td>\n",
       "      <td>0</td>\n",
       "      <td>0.5</td>\n",
       "      <td>0.05</td>\n",
       "      <td>0.0</td>\n",
       "      <td>0.0</td>\n",
       "      <td>0.0</td>\n",
       "      <td>0.0</td>\n",
       "    </tr>\n",
       "  </tbody>\n",
       "</table>\n",
       "</div>"
      ],
      "text/plain": [
       "    time_x  time_y  weekend  month_x  month_y  region_1  region_2  region_3  \\\n",
       "0    0.000   1.000        0      0.0      1.0         0         0         0   \n",
       "1    0.500   0.866        0      0.0      1.0         0         0         0   \n",
       "2    0.866   0.500        0      0.0      1.0         0         0         0   \n",
       "3    1.000   0.000        0      0.0      1.0         0         0         0   \n",
       "4    0.866  -0.500        0      0.0      1.0         0         0         0   \n",
       "5    0.500  -0.866        0      0.0      1.0         0         0         0   \n",
       "6    0.000  -1.000        0      0.0      1.0         0         0         0   \n",
       "7   -0.500  -0.866        0      0.0      1.0         0         0         0   \n",
       "8   -0.866  -0.500        0      0.0      1.0         0         0         0   \n",
       "9   -1.000  -0.000        0      0.0      1.0         0         0         0   \n",
       "10  -0.866   0.500        0      0.0      1.0         0         0         0   \n",
       "11  -0.500   0.866        0      0.0      1.0         0         0         0   \n",
       "\n",
       "    solar  loads  import_tariff  export_tariff  max_d  max_c  soc  \n",
       "0       0    0.5           0.05            0.0    0.0    0.0  0.0  \n",
       "1      -2    0.5           0.05            0.0    0.0    0.0  0.0  \n",
       "2      -2    0.5           0.05            0.0    0.0    0.0  0.0  \n",
       "3       0    0.5           0.05            0.0    0.0    0.0  0.0  \n",
       "4       0    0.5           0.05            0.0    0.0    0.0  0.0  \n",
       "5       0    0.5           0.05            0.0    0.0    0.0  0.0  \n",
       "6       0    0.5           0.05            0.0    0.0    0.0  0.0  \n",
       "7       0    0.5           2.00            2.0    0.0    0.0  0.0  \n",
       "8       0    0.5           2.00            2.0    0.0    0.0  0.0  \n",
       "9       0    0.5           0.05            0.0    0.0    0.0  0.0  \n",
       "10      0    0.5           0.05            0.0    0.0    0.0  0.0  \n",
       "11      0    0.5           0.05            0.0    0.0    0.0  0.0  "
      ]
     },
     "execution_count": 5,
     "metadata": {},
     "output_type": "execute_result"
    }
   ],
   "source": [
    "data"
   ]
  },
  {
   "cell_type": "code",
   "execution_count": 6,
   "id": "943d8f60",
   "metadata": {},
   "outputs": [
    {
     "data": {
      "text/plain": [
       "3"
      ]
     },
     "execution_count": 6,
     "metadata": {},
     "output_type": "execute_result"
    }
   ],
   "source": [
    "env.action_space.n"
   ]
  },
  {
   "cell_type": "code",
   "execution_count": 7,
   "id": "0b67b40f",
   "metadata": {},
   "outputs": [],
   "source": [
    "# net is the shared head of the actor and the critic\n",
    "hidden_sizes = [64,64]\n",
    "lr_optimizer = 1e-4\n",
    "\n",
    "net = Net(\n",
    "    env.observation_space.shape, \n",
    "    hidden_sizes=hidden_sizes, \n",
    "    device=device\n",
    "    )\n",
    "\n",
    "actor = Actor(net, 3, device=device).to(device)\n",
    "#actor = Actor(net, env.action_space.n, device=device).to(device)\n",
    "\n",
    "critic = Critic(net, device=device).to(device)\n",
    "actor_critic = ActorCritic(actor, critic)\n",
    "\n",
    "# optimizer of the actor and the critic\n",
    "optim = torch.optim.Adam(actor_critic.parameters(), lr=lr_optimizer)"
   ]
  },
  {
   "cell_type": "code",
   "execution_count": 8,
   "id": "a0eddb69",
   "metadata": {},
   "outputs": [
    {
     "name": "stdout",
     "output_type": "stream",
     "text": [
      "Discrete(3)\n"
     ]
    }
   ],
   "source": [
    "print(env.action_space)"
   ]
  },
  {
   "cell_type": "code",
   "execution_count": 9,
   "id": "6b7941a5",
   "metadata": {},
   "outputs": [],
   "source": [
    "# Since environment action space is discrete \n",
    "dist = torch.distributions.Categorical\n",
    "policy = PPOPolicy(\n",
    "    actor, \n",
    "    critic, \n",
    "    optim, \n",
    "    dist, \n",
    "    action_space=env.action_space, \n",
    "    deterministic_eval=True\n",
    ")"
   ]
  },
  {
   "cell_type": "code",
   "execution_count": 10,
   "id": "3661bb91",
   "metadata": {},
   "outputs": [],
   "source": [
    "vectorised = False\n",
    "\n",
    "if vectorised:\n",
    "    train_collector = AsyncCollector(policy, train_envs, VectorReplayBuffer(20000, len(train_envs)))\n",
    "    test_collector = AsyncCollector(policy, test_envs)\n",
    "else:\n",
    "    train_collector = Collector(policy, train_envs, VectorReplayBuffer(20000, len(train_envs)))\n",
    "    test_collector = Collector(policy, test_envs)"
   ]
  },
  {
   "cell_type": "code",
   "execution_count": 11,
   "id": "00afb50c",
   "metadata": {},
   "outputs": [
    {
     "name": "stderr",
     "output_type": "stream",
     "text": [
      "Epoch #1: 6000it [00:00, 7305.26it/s, env_step=6000, len=11, loss=1.019, loss/clip=-0.007, loss/ent=1.088, loss/vf=2.074, n/ep=180, n/st=2000, rew=-1.30]                           \n"
     ]
    },
    {
     "name": "stdout",
     "output_type": "stream",
     "text": [
      "Epoch #1: test_reward: 1.950000 ± 0.000000, best_reward: 1.950000 ± 0.000000 in #1\n"
     ]
    },
    {
     "name": "stderr",
     "output_type": "stream",
     "text": [
      "Epoch #2: 6000it [00:00, 7412.33it/s, env_step=12000, len=11, loss=1.066, loss/clip=-0.017, loss/ent=0.976, loss/vf=2.186, n/ep=190, n/st=2000, rew=-0.67]                          \n"
     ]
    },
    {
     "name": "stdout",
     "output_type": "stream",
     "text": [
      "Epoch #2: test_reward: 1.974342 ± 0.000000, best_reward: 1.974342 ± 0.000000 in #2\n"
     ]
    },
    {
     "name": "stderr",
     "output_type": "stream",
     "text": [
      "Epoch #3: 6000it [00:00, 7661.77it/s, env_step=18000, len=11, loss=0.755, loss/clip=-0.013, loss/ent=0.703, loss/vf=1.552, n/ep=180, n/st=2000, rew=0.98]                           \n"
     ]
    },
    {
     "name": "stdout",
     "output_type": "stream",
     "text": [
      "Epoch #3: test_reward: 1.974342 ± 0.000000, best_reward: 1.974342 ± 0.000000 in #2\n"
     ]
    },
    {
     "name": "stderr",
     "output_type": "stream",
     "text": [
      "Epoch #4: 6000it [00:00, 7998.32it/s, env_step=24000, len=11, loss=0.419, loss/clip=-0.008, loss/ent=0.482, loss/vf=0.862, n/ep=180, n/st=2000, rew=1.42]                           \n"
     ]
    },
    {
     "name": "stdout",
     "output_type": "stream",
     "text": [
      "Epoch #4: test_reward: 1.974342 ± 0.000000, best_reward: 1.974342 ± 0.000000 in #2\n"
     ]
    },
    {
     "name": "stderr",
     "output_type": "stream",
     "text": [
      "Epoch #5: 6000it [00:00, 7768.31it/s, env_step=30000, len=11, loss=0.251, loss/clip=-0.007, loss/ent=0.313, loss/vf=0.521, n/ep=180, n/st=2000, rew=1.73]                           \n"
     ]
    },
    {
     "name": "stdout",
     "output_type": "stream",
     "text": [
      "Epoch #5: test_reward: 1.974342 ± 0.000000, best_reward: 1.974342 ± 0.000000 in #2\n"
     ]
    },
    {
     "name": "stderr",
     "output_type": "stream",
     "text": [
      "Epoch #6: 6000it [00:00, 7586.49it/s, env_step=36000, len=11, loss=0.098, loss/clip=-0.003, loss/ent=0.218, loss/vf=0.207, n/ep=180, n/st=2000, rew=1.90]                           \n"
     ]
    },
    {
     "name": "stdout",
     "output_type": "stream",
     "text": [
      "Epoch #6: test_reward: 1.974342 ± 0.000000, best_reward: 1.974342 ± 0.000000 in #2\n"
     ]
    },
    {
     "name": "stderr",
     "output_type": "stream",
     "text": [
      "Epoch #7: 6000it [00:00, 7825.13it/s, env_step=42000, len=11, loss=0.047, loss/clip=-0.003, loss/ent=0.147, loss/vf=0.103, n/ep=180, n/st=2000, rew=1.91]                           \n"
     ]
    },
    {
     "name": "stdout",
     "output_type": "stream",
     "text": [
      "Epoch #7: test_reward: 1.974342 ± 0.000000, best_reward: 1.974342 ± 0.000000 in #2\n"
     ]
    },
    {
     "name": "stderr",
     "output_type": "stream",
     "text": [
      "Epoch #8: 6000it [00:00, 7836.21it/s, env_step=48000, len=11, loss=0.037, loss/clip=-0.002, loss/ent=0.109, loss/vf=0.080, n/ep=180, n/st=2000, rew=1.92]                           \n"
     ]
    },
    {
     "name": "stdout",
     "output_type": "stream",
     "text": [
      "Epoch #8: test_reward: 1.974342 ± 0.000000, best_reward: 1.974342 ± 0.000000 in #2\n"
     ]
    },
    {
     "name": "stderr",
     "output_type": "stream",
     "text": [
      "Epoch #9: 6000it [00:00, 7894.60it/s, env_step=54000, len=11, loss=0.013, loss/clip=-0.001, loss/ent=0.099, loss/vf=0.030, n/ep=180, n/st=2000, rew=1.95]                           \n"
     ]
    },
    {
     "name": "stdout",
     "output_type": "stream",
     "text": [
      "Epoch #9: test_reward: 1.974342 ± 0.000000, best_reward: 1.974342 ± 0.000000 in #2\n"
     ]
    },
    {
     "name": "stderr",
     "output_type": "stream",
     "text": [
      "Epoch #10: 6000it [00:00, 7787.92it/s, env_step=60000, len=11, loss=0.004, loss/clip=-0.000, loss/ent=0.099, loss/vf=0.010, n/ep=180, n/st=2000, rew=1.97]                           \n"
     ]
    },
    {
     "name": "stdout",
     "output_type": "stream",
     "text": [
      "Epoch #10: test_reward: 1.974342 ± 0.000000, best_reward: 1.974342 ± 0.000000 in #2\n"
     ]
    },
    {
     "name": "stderr",
     "output_type": "stream",
     "text": [
      "Epoch #11: 6000it [00:00, 7757.75it/s, env_step=66000, len=11, loss=0.003, loss/clip=-0.001, loss/ent=0.085, loss/vf=0.010, n/ep=190, n/st=2000, rew=1.96]                           \n"
     ]
    },
    {
     "name": "stdout",
     "output_type": "stream",
     "text": [
      "Epoch #11: test_reward: 1.974342 ± 0.000000, best_reward: 1.974342 ± 0.000000 in #2\n"
     ]
    },
    {
     "name": "stderr",
     "output_type": "stream",
     "text": [
      "Epoch #12: 6000it [00:00, 7761.80it/s, env_step=72000, len=11, loss=0.013, loss/clip=-0.002, loss/ent=0.105, loss/vf=0.032, n/ep=180, n/st=2000, rew=1.95]                           \n"
     ]
    },
    {
     "name": "stdout",
     "output_type": "stream",
     "text": [
      "Epoch #12: test_reward: 1.974342 ± 0.000000, best_reward: 1.974342 ± 0.000000 in #2\n"
     ]
    },
    {
     "name": "stderr",
     "output_type": "stream",
     "text": [
      "Epoch #13: 6000it [00:00, 7729.97it/s, env_step=78000, len=11, loss=-0.000, loss/clip=-0.002, loss/ent=0.154, loss/vf=0.007, n/ep=190, n/st=2000, rew=1.98]                          \n"
     ]
    },
    {
     "name": "stdout",
     "output_type": "stream",
     "text": [
      "Epoch #13: test_reward: 1.974342 ± 0.000000, best_reward: 1.974342 ± 0.000000 in #2\n"
     ]
    },
    {
     "name": "stderr",
     "output_type": "stream",
     "text": [
      "Epoch #14: 6000it [00:00, 7786.58it/s, env_step=84000, len=11, loss=-0.006, loss/clip=-0.005, loss/ent=0.226, loss/vf=0.003, n/ep=180, n/st=2000, rew=1.98]                           \n"
     ]
    },
    {
     "name": "stdout",
     "output_type": "stream",
     "text": [
      "Epoch #14: test_reward: 1.974342 ± 0.000000, best_reward: 1.974342 ± 0.000000 in #2\n"
     ]
    },
    {
     "name": "stderr",
     "output_type": "stream",
     "text": [
      "Epoch #15: 6000it [00:00, 8033.66it/s, env_step=90000, len=11, loss=-0.008, loss/clip=-0.006, loss/ent=0.309, loss/vf=0.003, n/ep=180, n/st=2000, rew=1.98]                           \n"
     ]
    },
    {
     "name": "stdout",
     "output_type": "stream",
     "text": [
      "Epoch #15: test_reward: 1.999342 ± 0.000000, best_reward: 1.999342 ± 0.000000 in #15\n"
     ]
    },
    {
     "name": "stderr",
     "output_type": "stream",
     "text": [
      "Epoch #16: 6000it [00:00, 7919.76it/s, env_step=96000, len=11, loss=-0.005, loss/clip=-0.003, loss/ent=0.317, loss/vf=0.002, n/ep=180, n/st=2000, rew=1.98]                           \n"
     ]
    },
    {
     "name": "stdout",
     "output_type": "stream",
     "text": [
      "Epoch #16: test_reward: 1.975000 ± 0.000000, best_reward: 1.999342 ± 0.000000 in #15\n"
     ]
    },
    {
     "name": "stderr",
     "output_type": "stream",
     "text": [
      "Epoch #17: 6000it [00:00, 7685.59it/s, env_step=102000, len=11, loss=-0.003, loss/clip=-0.004, loss/ent=0.324, loss/vf=0.008, n/ep=180, n/st=2000, rew=1.97]                          \n"
     ]
    },
    {
     "name": "stdout",
     "output_type": "stream",
     "text": [
      "Epoch #17: test_reward: 1.975000 ± 0.000000, best_reward: 1.999342 ± 0.000000 in #15\n"
     ]
    },
    {
     "name": "stderr",
     "output_type": "stream",
     "text": [
      "Epoch #18: 6000it [00:00, 7858.68it/s, env_step=108000, len=11, loss=-0.004, loss/clip=-0.001, loss/ent=0.289, loss/vf=0.001, n/ep=180, n/st=2000, rew=1.98]                           \n"
     ]
    },
    {
     "name": "stdout",
     "output_type": "stream",
     "text": [
      "Epoch #18: test_reward: 2.000000 ± 0.000000, best_reward: 2.000000 ± 0.000000 in #18\n"
     ]
    },
    {
     "name": "stderr",
     "output_type": "stream",
     "text": [
      "Epoch #19: 6000it [00:00, 7913.51it/s, env_step=114000, len=11, loss=-0.005, loss/clip=-0.002, loss/ent=0.279, loss/vf=0.001, n/ep=180, n/st=2000, rew=1.99]                           \n"
     ]
    },
    {
     "name": "stdout",
     "output_type": "stream",
     "text": [
      "Epoch #19: test_reward: 2.000000 ± 0.000000, best_reward: 2.000000 ± 0.000000 in #18\n"
     ]
    },
    {
     "name": "stderr",
     "output_type": "stream",
     "text": [
      "Epoch #20: 6000it [00:00, 7949.54it/s, env_step=120000, len=11, loss=-0.004, loss/clip=-0.002, loss/ent=0.257, loss/vf=0.001, n/ep=180, n/st=2000, rew=1.99]                           "
     ]
    },
    {
     "name": "stdout",
     "output_type": "stream",
     "text": [
      "Epoch #20: test_reward: 2.000000 ± 0.000000, best_reward: 2.000000 ± 0.000000 in #18\n"
     ]
    },
    {
     "name": "stderr",
     "output_type": "stream",
     "text": [
      "\n"
     ]
    }
   ],
   "source": [
    "n_steps = 5000\n",
    "n_max_epochs = 20\n",
    "rep_per_collector = 10\n",
    "eps_per_test = 10\n",
    "batch_size = 256\n",
    "n_steps_per_collect = 2000\n",
    "reward_stop = 4\n",
    "\n",
    "result = onpolicy_trainer(\n",
    "    policy,\n",
    "    train_collector,\n",
    "    test_collector,\n",
    "    max_epoch=n_max_epochs,\n",
    "    step_per_epoch=n_steps,\n",
    "    repeat_per_collect=rep_per_collector,\n",
    "    episode_per_test=eps_per_test,\n",
    "    batch_size=batch_size,\n",
    "    step_per_collect= n_steps_per_collect,\n",
    "    stop_fn=lambda mean_reward: mean_reward >= reward_stop,\n",
    "    logger=logger,\n",
    "    verbose=True\n",
    ")"
   ]
  },
  {
   "cell_type": "code",
   "execution_count": 12,
   "id": "784f2421",
   "metadata": {},
   "outputs": [
    {
     "name": "stdout",
     "output_type": "stream",
     "text": [
      "{'duration': '16.19s', 'train_time/model': '6.51s', 'test_step': 2310, 'test_episode': 210, 'test_time': '0.68s', 'test_speed': '3397.47 step/s', 'best_reward': 2.0, 'best_result': '2.00 ± 0.00', 'train_step': 120000, 'train_episode': 10900, 'train_time/collector': '9.00s', 'train_speed': '7734.87 step/s'}\n"
     ]
    }
   ],
   "source": [
    "print(result)"
   ]
  },
  {
   "cell_type": "code",
   "execution_count": 13,
   "id": "9b74dcb9",
   "metadata": {},
   "outputs": [
    {
     "name": "stdout",
     "output_type": "stream",
     "text": [
      "Final reward: 2.0, length: 11.0\n"
     ]
    }
   ],
   "source": [
    "# Let's watch its performance!\n",
    "policy.eval()\n",
    "result = test_collector.collect(n_episode=10, render=False)\n",
    "print(\"Final reward: {}, length: {}\".format(result[\"rews\"].mean(), result[\"lens\"].mean()))"
   ]
  },
  {
   "cell_type": "code",
   "execution_count": 14,
   "id": "89b80808",
   "metadata": {},
   "outputs": [
    {
     "name": "stdout",
     "output_type": "stream",
     "text": [
      "{'n/ep': 10, 'n/st': 110, 'rews': array([2., 2., 2., 2., 2., 2., 2., 2., 2., 2.]), 'lens': array([11, 11, 11, 11, 11, 11, 11, 11, 11, 11]), 'idxs': array([0, 1, 2, 3, 4, 5, 6, 7, 8, 9]), 'rew': 2.0, 'len': 11.0, 'rew_std': 0.0, 'len_std': 0.0}\n"
     ]
    }
   ],
   "source": [
    "print(result)"
   ]
  },
  {
   "cell_type": "code",
   "execution_count": 15,
   "id": "3b2a3b9b-6c71-4dc3-aa5b-e82f202e4c62",
   "metadata": {},
   "outputs": [
    {
     "data": {
      "text/html": [
       "Waiting for W&B process to finish... <strong style=\"color:green\">(success).</strong>"
      ],
      "text/plain": [
       "<IPython.core.display.HTML object>"
      ]
     },
     "metadata": {},
     "output_type": "display_data"
    },
    {
     "data": {
      "text/html": [
       "<style>\n",
       "    table.wandb td:nth-child(1) { padding: 0 10px; text-align: left ; width: auto;} td:nth-child(2) {text-align: left ; width: 100%}\n",
       "    .wandb-row { display: flex; flex-direction: row; flex-wrap: wrap; justify-content: flex-start; width: 100% }\n",
       "    .wandb-col { display: flex; flex-direction: column; flex-basis: 100%; flex: 1; padding: 10px; }\n",
       "    </style>\n",
       "<div class=\"wandb-row\"><div class=\"wandb-col\"><h3>Run history:</h3><br/><table class=\"wandb\"><tr><td>global_step</td><td>▁▁▁▁▂▂▂▂▂▃▃▃▃▃▃▄▄▄▄▄▅▅▅▅▅▅▆▆▆▆▆▆▇▇▇▇▇███</td></tr><tr><td>test/env_step</td><td>▁▁▂▂▂▃▃▃▄▄▅▅▅▆▆▆▇▇▇██</td></tr><tr><td>test/length</td><td>▁▁▁▁▁▁▁▁▁▁▁▁▁▁▁▁▁▁▁▁▁</td></tr><tr><td>test/length_std</td><td>▁▁▁▁▁▁▁▁▁▁▁▁▁▁▁▁▁▁▁▁▁</td></tr><tr><td>test/reward</td><td>▁████████████████████</td></tr><tr><td>test/reward_std</td><td>▁▁▁▁▁▁▁▁▁▁▁▁▁▁▁▁▁▁▁▁▁</td></tr><tr><td>train/episode</td><td>▁▁▁▁▁▁▁█▁▁▁█▁▁█▁▁▁█▁▁▁▁▁▁▁▁▁▁█▁▁▁█▁▁█▁▁▁</td></tr><tr><td>train/length</td><td>▁▁▁▁▁▁▁▁▁▁▁▁▁▁▁▁▁▁▁▁▁▁▁▁▁▁▁▁▁▁▁▁▁▁▁▁▁▁▁▁</td></tr><tr><td>train/reward</td><td>▁▁▂▃▆▆▆▇█▇██████████████████████████████</td></tr><tr><td>update/loss</td><td>█▂▁▁</td></tr><tr><td>update/loss/clip</td><td>▁▆▆█</td></tr><tr><td>update/loss/ent</td><td>█▃█▁</td></tr><tr><td>update/loss/vf</td><td>█▂▁▁</td></tr></table><br/></div><div class=\"wandb-col\"><h3>Run summary:</h3><br/><table class=\"wandb\"><tr><td>global_step</td><td>120000</td></tr><tr><td>test/env_step</td><td>120000.0</td></tr><tr><td>test/length</td><td>11.0</td></tr><tr><td>test/length_std</td><td>0.0</td></tr><tr><td>test/reward</td><td>2.0</td></tr><tr><td>test/reward_std</td><td>0.0</td></tr><tr><td>train/episode</td><td>180.0</td></tr><tr><td>train/length</td><td>11.0</td></tr><tr><td>train/reward</td><td>1.9987</td></tr><tr><td>update/loss</td><td>-0.00268</td></tr><tr><td>update/loss/clip</td><td>-0.00157</td></tr><tr><td>update/loss/ent</td><td>0.12199</td></tr><tr><td>update/loss/vf</td><td>0.00023</td></tr></table><br/></div></div>"
      ],
      "text/plain": [
       "<IPython.core.display.HTML object>"
      ]
     },
     "metadata": {},
     "output_type": "display_data"
    },
    {
     "data": {
      "text/html": [
       "Synced <strong style=\"color:#cdcd00\">debug_0</strong>: <a href=\"https://wandb.ai/w266_wra/RL_project/runs/3lg7ew5x\" target=\"_blank\">https://wandb.ai/w266_wra/RL_project/runs/3lg7ew5x</a><br/>Synced 5 W&B file(s), 0 media file(s), 0 artifact file(s) and 1 other file(s)"
      ],
      "text/plain": [
       "<IPython.core.display.HTML object>"
      ]
     },
     "metadata": {},
     "output_type": "display_data"
    },
    {
     "data": {
      "text/html": [
       "Find logs at: <code>./wandb/run-20221116_154430-3lg7ew5x/logs</code>"
      ],
      "text/plain": [
       "<IPython.core.display.HTML object>"
      ]
     },
     "metadata": {},
     "output_type": "display_data"
    }
   ],
   "source": [
    "## Not in dcs - also not sure if required. \n",
    "logger.wandb_run.finish()"
   ]
  },
  {
   "cell_type": "code",
   "execution_count": null,
   "id": "70384385-3f92-4eeb-bc1d-c7ed67d661c1",
   "metadata": {},
   "outputs": [],
   "source": []
  }
 ],
 "metadata": {
  "kernelspec": {
   "display_name": "Python 3 (ipykernel)",
   "language": "python",
   "name": "python3"
  },
  "language_info": {
   "codemirror_mode": {
    "name": "ipython",
    "version": 3
   },
   "file_extension": ".py",
   "mimetype": "text/x-python",
   "name": "python",
   "nbconvert_exporter": "python",
   "pygments_lexer": "ipython3",
   "version": "3.10.6"
  },
  "vscode": {
   "interpreter": {
    "hash": "a863a74765bf0c3fe50d1b3d9f296fe0cd846a803cf5e7d56750d3cf2026663d"
   }
  }
 },
 "nbformat": 4,
 "nbformat_minor": 5
}

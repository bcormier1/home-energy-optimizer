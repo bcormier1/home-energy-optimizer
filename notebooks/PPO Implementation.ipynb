{
 "cells": [
  {
   "cell_type": "code",
   "execution_count": 1,
   "id": "9289f927",
   "metadata": {},
   "outputs": [],
   "source": [
    "import sys, os\n",
    "parent_dir = os.getcwd()\n",
    "path = os.path.dirname(parent_dir)\n",
    "sys.path.append(path)\n",
    "\n",
    "from gym_homer.envs.test_env_v0 import HomerEnv\n",
    "import pandas as pd\n",
    "import numpy as np\n",
    "\n",
    "import torch\n",
    "import gym\n",
    "from gym import spaces, wrappers\n",
    "import envpool\n",
    "\n",
    "from tianshou.utils import WandbLogger\n",
    "from torch.utils.tensorboard import SummaryWriter\n",
    "\n",
    "from tianshou.data import Collector, VectorReplayBuffer, AsyncCollector\n",
    "from tianshou.env import DummyVectorEnv, SubprocVectorEnv, ShmemVectorEnv\n",
    "from tianshou.policy import PPOPolicy\n",
    "from tianshou.trainer import onpolicy_trainer\n",
    "from tianshou.utils.net.common import ActorCritic, Net\n",
    "from tianshou.utils.net.discrete import Actor, Critic\n",
    "\n",
    "import warnings\n",
    "warnings.filterwarnings('ignore')\n",
    "\n",
    "device = 'cuda' if torch.cuda.is_available() else 'cpu'\n",
    "i=0"
   ]
  },
  {
   "cell_type": "code",
   "execution_count": 2,
   "id": "41a8882d-e0d0-42de-92eb-85dd71728230",
   "metadata": {},
   "outputs": [
    {
     "data": {
      "text/plain": [
       "'/home/ds1/w210/home-energy-optimizer'"
      ]
     },
     "execution_count": 2,
     "metadata": {},
     "output_type": "execute_result"
    }
   ],
   "source": [
    "path"
   ]
  },
  {
   "cell_type": "code",
   "execution_count": 3,
   "id": "cf7175e3-852d-4f2b-a492-c804acd76f38",
   "metadata": {},
   "outputs": [
    {
     "name": "stderr",
     "output_type": "stream",
     "text": [
      "\u001b[34m\u001b[1mwandb\u001b[0m: Currently logged in as: \u001b[33matox120\u001b[0m (\u001b[33mw266_wra\u001b[0m). Use \u001b[1m`wandb login --relogin`\u001b[0m to force relogin\n"
     ]
    },
    {
     "data": {
      "text/html": [
       "Tracking run with wandb version 0.13.4"
      ],
      "text/plain": [
       "<IPython.core.display.HTML object>"
      ]
     },
     "metadata": {},
     "output_type": "display_data"
    },
    {
     "data": {
      "text/html": [
       "Run data is saved locally in <code>/home/ds1/w210/home-energy-optimizer/notebooks/wandb/run-20221103_044533-20qge2rg</code>"
      ],
      "text/plain": [
       "<IPython.core.display.HTML object>"
      ]
     },
     "metadata": {},
     "output_type": "display_data"
    },
    {
     "data": {
      "text/html": [
       "Syncing run <strong><a href=\"https://wandb.ai/w266_wra/RL_project/runs/20qge2rg\" target=\"_blank\">debug_0</a></strong> to <a href=\"https://wandb.ai/w266_wra/RL_project\" target=\"_blank\">Weights & Biases</a> (<a href=\"https://wandb.me/run\" target=\"_blank\">docs</a>)<br/>"
      ],
      "text/plain": [
       "<IPython.core.display.HTML object>"
      ]
     },
     "metadata": {},
     "output_type": "display_data"
    },
    {
     "name": "stderr",
     "output_type": "stream",
     "text": [
      "\u001b[34m\u001b[1mwandb\u001b[0m: \u001b[33mWARNING\u001b[0m Found log directory outside of given root_logdir, dropping given root_logdir for event file in /home/ds1/w210/home-energy-optimizer/logs/\n"
     ]
    }
   ],
   "source": [
    "log_path = path+'/logs/'\n",
    "logger = WandbLogger(\n",
    "    project=\"RL_project\", \n",
    "    entity=\"w266_wra\",\n",
    "    name=f'debug_{i}',\n",
    "    config=None)\n",
    "logger.load(SummaryWriter(log_path))\n",
    "i += 1"
   ]
  },
  {
   "cell_type": "code",
   "execution_count": 4,
   "id": "379f1ec1",
   "metadata": {},
   "outputs": [],
   "source": [
    "# Load Data\n",
    "data = pd.read_csv(path+\"/test_env_data.csv\", index_col=False).fillna(0)\n",
    "pd.DataFrame(data)\n",
    "\n",
    "vectorised = False\n",
    "\n",
    "\n",
    "n_train_envs = 20\n",
    "n_test_envs = 20\n",
    "\n",
    "env = HomerEnv(data=data, start_soc='empty')\n",
    "train_envs = SubprocVectorEnv([lambda: HomerEnv(data=data, start_soc='empty') for _ in range(n_train_envs)])\n",
    "test_envs = SubprocVectorEnv([lambda: HomerEnv(data=data, start_soc='empty') for _ in range(n_test_envs)])"
   ]
  },
  {
   "cell_type": "code",
   "execution_count": 5,
   "id": "0b67b40f",
   "metadata": {},
   "outputs": [],
   "source": [
    "# net is the shared head of the actor and the critic\n",
    "hidden_sizes = [64,64]\n",
    "lr_optimizer = 1e-4\n",
    "\n",
    "net = Net(\n",
    "    env.observation_space.shape, \n",
    "    hidden_sizes=hidden_sizes, \n",
    "    device=device\n",
    "    )\n",
    "\n",
    "actor = Actor(net, env.action_space.n, device=device).to(device)\n",
    "\n",
    "critic = Critic(net, device=device).to(device)\n",
    "actor_critic = ActorCritic(actor, critic)\n",
    "\n",
    "# optimizer of the actor and the critic\n",
    "optim = torch.optim.Adam(actor_critic.parameters(), lr=lr_optimizer)"
   ]
  },
  {
   "cell_type": "code",
   "execution_count": 6,
   "id": "6b7941a5",
   "metadata": {},
   "outputs": [],
   "source": [
    "# Since environment action space is discrete \n",
    "dist = torch.distributions.Categorical\n",
    "policy = PPOPolicy(\n",
    "    actor, \n",
    "    critic, \n",
    "    optim, \n",
    "    dist, \n",
    "    action_space=env.action_space, \n",
    "    deterministic_eval=True\n",
    ")"
   ]
  },
  {
   "cell_type": "code",
   "execution_count": 7,
   "id": "3661bb91",
   "metadata": {},
   "outputs": [],
   "source": [
    "vectorised = False\n",
    "\n",
    "if vectorised:\n",
    "    train_collector = AsyncCollector(policy, train_envs, VectorReplayBuffer(20000, len(train_envs)))\n",
    "    test_collector = AsyncCollector(policy, test_envs)\n",
    "else:\n",
    "    train_collector = Collector(policy, train_envs, VectorReplayBuffer(20000, len(train_envs)))\n",
    "    test_collector = Collector(policy, test_envs)"
   ]
  },
  {
   "cell_type": "code",
   "execution_count": 8,
   "id": "00afb50c",
   "metadata": {},
   "outputs": [
    {
     "name": "stderr",
     "output_type": "stream",
     "text": [
      "Epoch #1: 6000it [00:00, 10738.95it/s, env_step=6000, len=11, loss=1.712, loss/clip=-0.006, loss/ent=1.094, loss/vf=3.457, n/ep=180, n/st=2000, rew=-2.71]\n"
     ]
    },
    {
     "name": "stdout",
     "output_type": "stream",
     "text": [
      "Epoch #1: test_reward: -2.175000 ± 0.000000, best_reward: -2.175000 ± 0.000000 in #1\n"
     ]
    },
    {
     "name": "stderr",
     "output_type": "stream",
     "text": [
      "Epoch #2: 6000it [00:00, 10598.16it/s, env_step=12000, len=11, loss=0.664, loss/clip=-0.003, loss/ent=1.023, loss/vf=1.354, n/ep=180, n/st=2000, rew=-2.31]\n"
     ]
    },
    {
     "name": "stdout",
     "output_type": "stream",
     "text": [
      "Epoch #2: test_reward: -2.175000 ± 0.000000, best_reward: -2.175000 ± 0.000000 in #1\n"
     ]
    },
    {
     "name": "stderr",
     "output_type": "stream",
     "text": [
      "Epoch #3: 6000it [00:00, 10618.38it/s, env_step=18000, len=11, loss=0.413, loss/clip=-0.005, loss/ent=0.916, loss/vf=0.853, n/ep=180, n/st=2000, rew=-2.06]\n"
     ]
    },
    {
     "name": "stdout",
     "output_type": "stream",
     "text": [
      "Epoch #3: test_reward: -2.175000 ± 0.000000, best_reward: -2.175000 ± 0.000000 in #1\n"
     ]
    },
    {
     "name": "stderr",
     "output_type": "stream",
     "text": [
      "Epoch #4: 6000it [00:00, 10539.19it/s, env_step=24000, len=11, loss=0.355, loss/clip=-0.008, loss/ent=0.955, loss/vf=0.745, n/ep=180, n/st=2000, rew=-1.75]\n"
     ]
    },
    {
     "name": "stdout",
     "output_type": "stream",
     "text": [
      "Epoch #4: test_reward: -2.175000 ± 0.000000, best_reward: -2.175000 ± 0.000000 in #1\n"
     ]
    },
    {
     "name": "stderr",
     "output_type": "stream",
     "text": [
      "Epoch #5: 6000it [00:00, 10441.72it/s, env_step=30000, len=11, loss=0.443, loss/clip=-0.010, loss/ent=0.930, loss/vf=0.924, n/ep=180, n/st=2000, rew=-1.16]\n"
     ]
    },
    {
     "name": "stdout",
     "output_type": "stream",
     "text": [
      "Epoch #5: test_reward: 1.750000 ± 0.000000, best_reward: 1.750000 ± 0.000000 in #5\n"
     ]
    },
    {
     "name": "stderr",
     "output_type": "stream",
     "text": [
      "Epoch #6: 6000it [00:00, 10599.48it/s, env_step=36000, len=11, loss=0.629, loss/clip=-0.010, loss/ent=0.815, loss/vf=1.293, n/ep=180, n/st=2000, rew=-0.33]\n"
     ]
    },
    {
     "name": "stdout",
     "output_type": "stream",
     "text": [
      "Epoch #6: test_reward: 1.750000 ± 0.000000, best_reward: 1.750000 ± 0.000000 in #5\n"
     ]
    },
    {
     "name": "stderr",
     "output_type": "stream",
     "text": [
      "Epoch #7: 6000it [00:00, 10261.46it/s, env_step=42000, len=11, loss=0.562, loss/clip=-0.012, loss/ent=0.630, loss/vf=1.161, n/ep=180, n/st=2000, rew=0.42]\n"
     ]
    },
    {
     "name": "stdout",
     "output_type": "stream",
     "text": [
      "Epoch #7: test_reward: 1.750000 ± 0.000000, best_reward: 1.750000 ± 0.000000 in #5\n"
     ]
    },
    {
     "name": "stderr",
     "output_type": "stream",
     "text": [
      "Epoch #8: 6000it [00:00, 10528.94it/s, env_step=48000, len=11, loss=0.390, loss/clip=-0.009, loss/ent=0.441, loss/vf=0.807, n/ep=180, n/st=2000, rew=1.06]\n"
     ]
    },
    {
     "name": "stdout",
     "output_type": "stream",
     "text": [
      "Epoch #8: test_reward: 1.750000 ± 0.000000, best_reward: 1.750000 ± 0.000000 in #5\n"
     ]
    },
    {
     "name": "stderr",
     "output_type": "stream",
     "text": [
      "Epoch #9: 6000it [00:00, 10420.02it/s, env_step=54000, len=11, loss=0.208, loss/clip=-0.005, loss/ent=0.319, loss/vf=0.433, n/ep=180, n/st=2000, rew=1.50]\n"
     ]
    },
    {
     "name": "stdout",
     "output_type": "stream",
     "text": [
      "Epoch #9: test_reward: 1.750000 ± 0.000000, best_reward: 1.750000 ± 0.000000 in #5\n"
     ]
    },
    {
     "name": "stderr",
     "output_type": "stream",
     "text": [
      "Epoch #10: 6000it [00:00, 10532.52it/s, env_step=60000, len=11, loss=0.164, loss/clip=-0.004, loss/ent=0.249, loss/vf=0.341, n/ep=180, n/st=2000, rew=1.49]\n"
     ]
    },
    {
     "name": "stdout",
     "output_type": "stream",
     "text": [
      "Epoch #10: test_reward: 1.750000 ± 0.000000, best_reward: 1.750000 ± 0.000000 in #5\n"
     ]
    }
   ],
   "source": [
    "n_steps = 5000\n",
    "n_max_epochs = 10\n",
    "rep_per_collector = 10\n",
    "eps_per_test = 10\n",
    "batch_size = 256\n",
    "n_steps_per_collect = 2000\n",
    "reward_stop = 4\n",
    "\n",
    "result = onpolicy_trainer(\n",
    "    policy,\n",
    "    train_collector,\n",
    "    test_collector,\n",
    "    max_epoch=n_max_epochs,\n",
    "    step_per_epoch=n_steps,\n",
    "    repeat_per_collect=rep_per_collector,\n",
    "    episode_per_test=eps_per_test,\n",
    "    batch_size=batch_size,\n",
    "    step_per_collect= n_steps_per_collect,\n",
    "    stop_fn=lambda mean_reward: mean_reward >= reward_stop,\n",
    "    logger=logger\n",
    ")"
   ]
  },
  {
   "cell_type": "code",
   "execution_count": 9,
   "id": "784f2421",
   "metadata": {},
   "outputs": [
    {
     "name": "stdout",
     "output_type": "stream",
     "text": [
      "{'duration': '6.25s', 'train_time/model': '2.86s', 'test_step': 1210, 'test_episode': 110, 'test_time': '0.51s', 'test_speed': '2367.05 step/s', 'best_reward': 1.7499999906867743, 'best_result': '1.75 ± 0.00', 'train_step': 60000, 'train_episode': 5440, 'train_time/collector': '2.88s', 'train_speed': '10460.63 step/s'}\n"
     ]
    }
   ],
   "source": [
    "print(result)"
   ]
  },
  {
   "cell_type": "code",
   "execution_count": 10,
   "id": "9b74dcb9",
   "metadata": {},
   "outputs": [
    {
     "name": "stdout",
     "output_type": "stream",
     "text": [
      "Final reward: 1.7499999906867743, length: 11.0\n"
     ]
    }
   ],
   "source": [
    "# Let's watch its performance!\n",
    "policy.eval()\n",
    "result = test_collector.collect(n_episode=10, render=False)\n",
    "print(\"Final reward: {}, length: {}\".format(result[\"rews\"].mean(), result[\"lens\"].mean()))"
   ]
  },
  {
   "cell_type": "code",
   "execution_count": 11,
   "id": "89b80808",
   "metadata": {},
   "outputs": [
    {
     "name": "stdout",
     "output_type": "stream",
     "text": [
      "{'n/ep': 10, 'n/st': 110, 'rews': array([1.74999999, 1.74999999, 1.74999999, 1.74999999, 1.74999999,\n",
      "       1.74999999, 1.74999999, 1.74999999, 1.74999999, 1.74999999]), 'lens': array([11, 11, 11, 11, 11, 11, 11, 11, 11, 11]), 'idxs': array([0, 1, 2, 3, 4, 5, 6, 7, 8, 9]), 'rew': 1.7499999906867743, 'len': 11.0, 'rew_std': 0.0, 'len_std': 0.0}\n"
     ]
    }
   ],
   "source": [
    "print(result)"
   ]
  },
  {
   "cell_type": "code",
   "execution_count": 12,
   "id": "3b2a3b9b-6c71-4dc3-aa5b-e82f202e4c62",
   "metadata": {},
   "outputs": [
    {
     "data": {
      "text/html": [
       "Waiting for W&B process to finish... <strong style=\"color:green\">(success).</strong>"
      ],
      "text/plain": [
       "<IPython.core.display.HTML object>"
      ]
     },
     "metadata": {},
     "output_type": "display_data"
    },
    {
     "data": {
      "text/html": [
       "<style>\n",
       "    table.wandb td:nth-child(1) { padding: 0 10px; text-align: left ; width: auto;} td:nth-child(2) {text-align: left ; width: 100%}\n",
       "    .wandb-row { display: flex; flex-direction: row; flex-wrap: wrap; justify-content: flex-start; width: 100% }\n",
       "    .wandb-col { display: flex; flex-direction: column; flex-basis: 100%; flex: 1; padding: 10px; }\n",
       "    </style>\n",
       "<div class=\"wandb-row\"><div class=\"wandb-col\"><h3>Run history:</h3><br/><table class=\"wandb\"><tr><td>global_step</td><td>▁▁▁▂▂▂▂▃▃▃▃▄▄▄▄▅▅▅▅▅▆▆▆▆▇▇▇▇███</td></tr><tr><td>test/env_step</td><td>▁▂▂▃▄▅▅▆▇▇█</td></tr><tr><td>test/length</td><td>▁▁▁▁▁▁▁▁▁▁▁</td></tr><tr><td>test/length_std</td><td>▁▁▁▁▁▁▁▁▁▁▁</td></tr><tr><td>test/reward</td><td>▁▅▅▅▅██████</td></tr><tr><td>test/reward_std</td><td>▁▁▁▁▁▁▁▁▁▁▁</td></tr><tr><td>train/episode</td><td>▁▁▁▁▁▁▁▁▁▁█▁▁▁▁▁▁▁▁▁▁█▁▁▁▁▁▁▁▁</td></tr><tr><td>train/length</td><td>▁▁▁▁▁▁▁▁▁▁▁▁▁▁▁▁▁▁▁▁▁▁▁▁▁▁▁▁▁▁</td></tr><tr><td>train/reward</td><td>▁▁▁▂▂▂▂▂▂▃▃▃▄▃▄▄▄▅▅▆▆▇▇▇█▇████</td></tr><tr><td>update/loss</td><td>█▁</td></tr><tr><td>update/loss/clip</td><td>▁█</td></tr><tr><td>update/loss/ent</td><td>█▁</td></tr><tr><td>update/loss/vf</td><td>█▁</td></tr></table><br/></div><div class=\"wandb-col\"><h3>Run summary:</h3><br/><table class=\"wandb\"><tr><td>global_step</td><td>60000</td></tr><tr><td>test/env_step</td><td>60000.0</td></tr><tr><td>test/length</td><td>11.0</td></tr><tr><td>test/length_std</td><td>0.0</td></tr><tr><td>test/reward</td><td>1.75</td></tr><tr><td>test/reward_std</td><td>0.0</td></tr><tr><td>train/episode</td><td>180.0</td></tr><tr><td>train/length</td><td>11.0</td></tr><tr><td>train/reward</td><td>1.48861</td></tr><tr><td>update/loss</td><td>0.16423</td></tr><tr><td>update/loss/clip</td><td>-0.00355</td></tr><tr><td>update/loss/ent</td><td>0.24909</td></tr><tr><td>update/loss/vf</td><td>0.34053</td></tr></table><br/></div></div>"
      ],
      "text/plain": [
       "<IPython.core.display.HTML object>"
      ]
     },
     "metadata": {},
     "output_type": "display_data"
    },
    {
     "data": {
      "text/html": [
       "Synced <strong style=\"color:#cdcd00\">debug_0</strong>: <a href=\"https://wandb.ai/w266_wra/RL_project/runs/20qge2rg\" target=\"_blank\">https://wandb.ai/w266_wra/RL_project/runs/20qge2rg</a><br/>Synced 5 W&B file(s), 0 media file(s), 0 artifact file(s) and 1 other file(s)"
      ],
      "text/plain": [
       "<IPython.core.display.HTML object>"
      ]
     },
     "metadata": {},
     "output_type": "display_data"
    },
    {
     "data": {
      "text/html": [
       "Find logs at: <code>./wandb/run-20221103_044533-20qge2rg/logs</code>"
      ],
      "text/plain": [
       "<IPython.core.display.HTML object>"
      ]
     },
     "metadata": {},
     "output_type": "display_data"
    }
   ],
   "source": [
    "## Not in dcs - also not sure if required. \n",
    "logger.wandb_run.finish()"
   ]
  },
  {
   "cell_type": "code",
   "execution_count": null,
   "id": "70384385-3f92-4eeb-bc1d-c7ed67d661c1",
   "metadata": {},
   "outputs": [],
   "source": []
  }
 ],
 "metadata": {
  "kernelspec": {
   "display_name": "Python 3 (ipykernel)",
   "language": "python",
   "name": "python3"
  },
  "language_info": {
   "codemirror_mode": {
    "name": "ipython",
    "version": 3
   },
   "file_extension": ".py",
   "mimetype": "text/x-python",
   "name": "python",
   "nbconvert_exporter": "python",
   "pygments_lexer": "ipython3",
   "version": "3.10.6"
  },
  "vscode": {
   "interpreter": {
    "hash": "a863a74765bf0c3fe50d1b3d9f296fe0cd846a803cf5e7d56750d3cf2026663d"
   }
  }
 },
 "nbformat": 4,
 "nbformat_minor": 5
}

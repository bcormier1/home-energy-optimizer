{
 "cells": [
  {
   "cell_type": "code",
   "execution_count": 1,
   "metadata": {},
   "outputs": [],
   "source": [
    "from datetime import datetime, time\n",
    "import numpy as np\n",
    "import matplotlib.pyplot as plt"
   ]
  },
  {
   "cell_type": "code",
   "execution_count": 2,
   "metadata": {},
   "outputs": [],
   "source": [
    "time = datetime.fromtimestamp(datetime.timestamp(datetime.now()))\n",
    "# here we take 5 minute intervals\n",
    "hour = time.hour\n",
    "minute = time.minute\n",
    "interval = 24 * 60 / 5 # Total intervals\n",
    "\n",
    "net_min = int(hour * (60 / 5) + minute // 5)\n",
    "t_sin = np.sin(2 * np.pi * net_min/interval)\n",
    "t_cos = np.cos(2 * np.pi * net_min/interval)"
   ]
  },
  {
   "cell_type": "code",
   "execution_count": 3,
   "metadata": {},
   "outputs": [
    {
     "data": {
      "text/plain": [
       "Text(0.5, 0.98, 'Plot of timesteps on polar coordinates')"
      ]
     },
     "execution_count": 3,
     "metadata": {},
     "output_type": "execute_result"
    },
    {
     "data": {
      "image/png": "[encoded data removed]",
      "text/plain": [
       "<Figure size 640x480 with 1 Axes>"
      ]
     },
     "metadata": {},
     "output_type": "display_data"
    }
   ],
   "source": [
    "# For time:\n",
    "sin_ = []\n",
    "cos_ = []\n",
    "\n",
    "hour_ints = 1\n",
    "minute_ints = 12\n",
    "\n",
    "intervals = range(0, hour_ints * minute_ints)\n",
    "for i in intervals:\n",
    "    sin_.append(np.sin(2 * np.pi * intervals[i] / (hour_ints * minute_ints)))\n",
    "    cos_.append(np.cos(2 * np.pi * intervals[i] / (hour_ints * minute_ints)))\n",
    "\n",
    "plt.scatter(sin_, cos_)\n",
    "plt.suptitle('Plot of timesteps on polar coordinates')"
   ]
  },
  {
   "cell_type": "code",
   "execution_count": 7,
   "metadata": {},
   "outputs": [
    {
     "name": "stdout",
     "output_type": "stream",
     "text": [
      "(0.0000, 1.0000)\n",
      "(0.5000, 0.8660)\n",
      "(0.8660, 0.5000)\n",
      "(1.0000, 0.0000)\n",
      "(0.8660, -0.5000)\n",
      "(0.5000, -0.8660)\n",
      "(0.0000, -1.0000)\n",
      "(-0.5000, -0.8660)\n",
      "(-0.8660, -0.5000)\n",
      "(-1.0000, -0.0000)\n",
      "(-0.8660, 0.5000)\n",
      "(-0.5000, 0.8660)\n"
     ]
    },
    {
     "ename": "NameError",
     "evalue": "name 'sin' is not defined",
     "output_type": "error",
     "traceback": [
      "\u001b[0;31m---------------------------------------------------------------------------\u001b[0m",
      "\u001b[0;31mNameError\u001b[0m                                 Traceback (most recent call last)",
      "Cell \u001b[0;32mIn [7], line 11\u001b[0m\n\u001b[1;32m      9\u001b[0m     cos_\u001b[39m.\u001b[39mappend(np\u001b[39m.\u001b[39mcos(\u001b[39m2\u001b[39m \u001b[39m*\u001b[39m np\u001b[39m.\u001b[39mpi \u001b[39m*\u001b[39m months[i] \u001b[39m/\u001b[39m \u001b[39m12\u001b[39m))\n\u001b[1;32m     10\u001b[0m     \u001b[39mprint\u001b[39m(\u001b[39mf\u001b[39m\u001b[39m\"\u001b[39m\u001b[39m(\u001b[39m\u001b[39m{\u001b[39;00msin_[i]\u001b[39m:\u001b[39;00m\u001b[39m.4f\u001b[39m\u001b[39m}\u001b[39;00m\u001b[39m, \u001b[39m\u001b[39m{\u001b[39;00mcos_[i]\u001b[39m:\u001b[39;00m\u001b[39m.4f\u001b[39m\u001b[39m}\u001b[39;00m\u001b[39m)\u001b[39m\u001b[39m\"\u001b[39m)\n\u001b[0;32m---> 11\u001b[0m plt\u001b[39m.\u001b[39mscatter(sin, cos)\n\u001b[1;32m     12\u001b[0m plt\u001b[39m.\u001b[39msuptitle(\u001b[39m'\u001b[39m\u001b[39mPlot of months on polar coordinates\u001b[39m\u001b[39m'\u001b[39m)\n",
      "\u001b[0;31mNameError\u001b[0m: name 'sin' is not defined"
     ]
    }
   ],
   "source": [
    "# For Months\n",
    "\n",
    "sin_ = []\n",
    "cos_ = []\n",
    "\n",
    "months = range(0,12)\n",
    "for i in months:\n",
    "    sin_.append(np.sin(2 * np.pi * months[i] / 12))\n",
    "    cos_.append(np.cos(2 * np.pi * months[i] / 12))\n",
    "    print(f\"({sin_[i]:.4f}, {cos_[i]:.4f})\")\n",
    "plt.scatter(sin, cos)\n",
    "plt.suptitle('Plot of months on polar coordinates')"
   ]
  },
  {
   "cell_type": "code",
   "execution_count": 5,
   "metadata": {},
   "outputs": [],
   "source": [
    "my_dict = {\n",
    "    \"region\":['NSW','NSW','NSW','VIC','VIC','VIC']\n",
    "}"
   ]
  },
  {
   "cell_type": "code",
   "execution_count": 7,
   "metadata": {},
   "outputs": [],
   "source": [
    "import pandas as pd"
   ]
  },
  {
   "cell_type": "code",
   "execution_count": 8,
   "metadata": {},
   "outputs": [
    {
     "data": {
      "text/plain": [
       "2"
      ]
     },
     "execution_count": 8,
     "metadata": {},
     "output_type": "execute_result"
    }
   ],
   "source": [
    "len(pd.DataFrame(my_dict).region.unique())"
   ]
  },
  {
   "cell_type": "code",
   "execution_count": 11,
   "metadata": {},
   "outputs": [],
   "source": [
    "from enum import Enum\n",
    "\n",
    "class Actions(Enum):\n",
    "    Charge = 0\n",
    "    Discharge = 1\n",
    "    Standby = 2"
   ]
  },
  {
   "cell_type": "code",
   "execution_count": 29,
   "metadata": {},
   "outputs": [],
   "source": [
    "my_action = Actions.Standby"
   ]
  },
  {
   "cell_type": "code",
   "execution_count": 30,
   "metadata": {},
   "outputs": [
    {
     "data": {
      "text/plain": [
       "True"
      ]
     },
     "execution_count": 30,
     "metadata": {},
     "output_type": "execute_result"
    }
   ],
   "source": [
    "my_action.value == Actions.Standby.value"
   ]
  },
  {
   "cell_type": "code",
   "execution_count": null,
   "metadata": {},
   "outputs": [],
   "source": []
  }
 ],
 "metadata": {
  "kernelspec": {
   "display_name": "Python 3.10.8 64-bit",
   "language": "python",
   "name": "python3"
  },
  "language_info": {
   "codemirror_mode": {
    "name": "ipython",
    "version": 3
   },
   "file_extension": ".py",
   "mimetype": "text/x-python",
   "name": "python",
   "nbconvert_exporter": "python",
   "pygments_lexer": "ipython3",
   "version": "3.10.8"
  },
  "orig_nbformat": 4,
  "vscode": {
   "interpreter": {
    "hash": "aee8b7b246df8f9039afb4144a1f6fd8d2ca17a180786b69acc140d282b71a49"
   }
  }
 },
 "nbformat": 4,
 "nbformat_minor": 2
}

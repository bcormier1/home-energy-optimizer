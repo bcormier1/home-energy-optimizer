{
 "cells": [
  {
   "cell_type": "code",
   "execution_count": 1,
   "id": "9289f927",
   "metadata": {},
   "outputs": [],
   "source": [
    "## Requires serparate venv for sb3\n",
    "import sys, os\n",
    "parent_dir = os.getcwd()\n",
    "path = os.path.dirname(parent_dir)\n",
    "sys.path.append(path)\n",
    "\n",
    "import gym\n",
    "gym.__version__\n",
    "\n",
    "from stable_baselines3.common.env_checker import check_env\n",
    "from gym import spaces, wrappers\n",
    "from gym_homer.envs.test_env_v0 import HomerEnv\n",
    "import pandas as pd\n",
    "import numpy as np"
   ]
  },
  {
   "cell_type": "code",
   "execution_count": 2,
   "id": "a25da4b4",
   "metadata": {},
   "outputs": [
    {
     "ename": "UnboundLocalError",
     "evalue": "local variable 'output_energy' referenced before assignment",
     "output_type": "error",
     "traceback": [
      "\u001b[0;31m---------------------------------------------------------------------------\u001b[0m",
      "\u001b[0;31mUnboundLocalError\u001b[0m                         Traceback (most recent call last)",
      "Cell \u001b[0;32mIn [2], line 4\u001b[0m\n\u001b[1;32m      2\u001b[0m env \u001b[39m=\u001b[39m HomerEnv(data\u001b[39m=\u001b[39mdata)\n\u001b[1;32m      3\u001b[0m \u001b[39mfor\u001b[39;00m i \u001b[39min\u001b[39;00m \u001b[39mrange\u001b[39m(\u001b[39m1000\u001b[39m):\n\u001b[0;32m----> 4\u001b[0m     check_env(env, warn\u001b[39m=\u001b[39;49m\u001b[39mTrue\u001b[39;49;00m)\n",
      "File \u001b[0;32m~/Berkeley/w210/home-energy-optimizer/sb3/lib/python3.9/site-packages/stable_baselines3/common/env_checker.py:384\u001b[0m, in \u001b[0;36mcheck_env\u001b[0;34m(env, warn, skip_render_check)\u001b[0m\n\u001b[1;32m    382\u001b[0m \u001b[39m# The check only works with numpy arrays\u001b[39;00m\n\u001b[1;32m    383\u001b[0m \u001b[39mif\u001b[39;00m _is_numpy_array_space(observation_space) \u001b[39mand\u001b[39;00m _is_numpy_array_space(action_space):\n\u001b[0;32m--> 384\u001b[0m     _check_nan(env)\n",
      "File \u001b[0;32m~/Berkeley/w210/home-energy-optimizer/sb3/lib/python3.9/site-packages/stable_baselines3/common/env_checker.py:93\u001b[0m, in \u001b[0;36m_check_nan\u001b[0;34m(env)\u001b[0m\n\u001b[1;32m     91\u001b[0m \u001b[39mfor\u001b[39;00m _ \u001b[39min\u001b[39;00m \u001b[39mrange\u001b[39m(\u001b[39m10\u001b[39m):\n\u001b[1;32m     92\u001b[0m     action \u001b[39m=\u001b[39m np\u001b[39m.\u001b[39marray([env\u001b[39m.\u001b[39maction_space\u001b[39m.\u001b[39msample()])\n\u001b[0;32m---> 93\u001b[0m     _, _, _, _ \u001b[39m=\u001b[39m vec_env\u001b[39m.\u001b[39;49mstep(action)\n",
      "File \u001b[0;32m~/Berkeley/w210/home-energy-optimizer/sb3/lib/python3.9/site-packages/stable_baselines3/common/vec_env/base_vec_env.py:163\u001b[0m, in \u001b[0;36mVecEnv.step\u001b[0;34m(self, actions)\u001b[0m\n\u001b[1;32m    156\u001b[0m \u001b[39m\"\"\"\u001b[39;00m\n\u001b[1;32m    157\u001b[0m \u001b[39mStep the environments with the given action\u001b[39;00m\n\u001b[1;32m    158\u001b[0m \n\u001b[1;32m    159\u001b[0m \u001b[39m:param actions: the action\u001b[39;00m\n\u001b[1;32m    160\u001b[0m \u001b[39m:return: observation, reward, done, information\u001b[39;00m\n\u001b[1;32m    161\u001b[0m \u001b[39m\"\"\"\u001b[39;00m\n\u001b[1;32m    162\u001b[0m \u001b[39mself\u001b[39m\u001b[39m.\u001b[39mstep_async(actions)\n\u001b[0;32m--> 163\u001b[0m \u001b[39mreturn\u001b[39;00m \u001b[39mself\u001b[39;49m\u001b[39m.\u001b[39;49mstep_wait()\n",
      "File \u001b[0;32m~/Berkeley/w210/home-energy-optimizer/sb3/lib/python3.9/site-packages/stable_baselines3/common/vec_env/vec_check_nan.py:35\u001b[0m, in \u001b[0;36mVecCheckNan.step_wait\u001b[0;34m(self)\u001b[0m\n\u001b[1;32m     34\u001b[0m \u001b[39mdef\u001b[39;00m \u001b[39mstep_wait\u001b[39m(\u001b[39mself\u001b[39m) \u001b[39m-\u001b[39m\u001b[39m>\u001b[39m VecEnvStepReturn:\n\u001b[0;32m---> 35\u001b[0m     observations, rewards, news, infos \u001b[39m=\u001b[39m \u001b[39mself\u001b[39;49m\u001b[39m.\u001b[39;49mvenv\u001b[39m.\u001b[39;49mstep_wait()\n\u001b[1;32m     37\u001b[0m     \u001b[39mself\u001b[39m\u001b[39m.\u001b[39m_check_val(async_step\u001b[39m=\u001b[39m\u001b[39mFalse\u001b[39;00m, observations\u001b[39m=\u001b[39mobservations, rewards\u001b[39m=\u001b[39mrewards, news\u001b[39m=\u001b[39mnews)\n\u001b[1;32m     39\u001b[0m     \u001b[39mself\u001b[39m\u001b[39m.\u001b[39m_observations \u001b[39m=\u001b[39m observations\n",
      "File \u001b[0;32m~/Berkeley/w210/home-energy-optimizer/sb3/lib/python3.9/site-packages/stable_baselines3/common/vec_env/dummy_vec_env.py:44\u001b[0m, in \u001b[0;36mDummyVecEnv.step_wait\u001b[0;34m(self)\u001b[0m\n\u001b[1;32m     41\u001b[0m \u001b[39mdef\u001b[39;00m \u001b[39mstep_wait\u001b[39m(\u001b[39mself\u001b[39m) \u001b[39m-\u001b[39m\u001b[39m>\u001b[39m VecEnvStepReturn:\n\u001b[1;32m     42\u001b[0m     \u001b[39m# Avoid circular imports\u001b[39;00m\n\u001b[1;32m     43\u001b[0m     \u001b[39mfor\u001b[39;00m env_idx \u001b[39min\u001b[39;00m \u001b[39mrange\u001b[39m(\u001b[39mself\u001b[39m\u001b[39m.\u001b[39mnum_envs):\n\u001b[0;32m---> 44\u001b[0m         obs, \u001b[39mself\u001b[39m\u001b[39m.\u001b[39mbuf_rews[env_idx], terminated, truncated, \u001b[39mself\u001b[39m\u001b[39m.\u001b[39mbuf_infos[env_idx] \u001b[39m=\u001b[39m \u001b[39mself\u001b[39;49m\u001b[39m.\u001b[39;49menvs[env_idx]\u001b[39m.\u001b[39;49mstep(\n\u001b[1;32m     45\u001b[0m             \u001b[39mself\u001b[39;49m\u001b[39m.\u001b[39;49mactions[env_idx]\n\u001b[1;32m     46\u001b[0m         )\n\u001b[1;32m     47\u001b[0m         \u001b[39m# convert to SB3 VecEnv api\u001b[39;00m\n\u001b[1;32m     48\u001b[0m         \u001b[39mself\u001b[39m\u001b[39m.\u001b[39mbuf_dones[env_idx] \u001b[39m=\u001b[39m terminated \u001b[39mor\u001b[39;00m truncated\n",
      "File \u001b[0;32m~/Berkeley/w210/home-energy-optimizer/gym_homer/envs/test_env_v0.py:116\u001b[0m, in \u001b[0;36mHomerEnv.step\u001b[0;34m(self, action)\u001b[0m\n\u001b[1;32m    113\u001b[0m obs \u001b[39m=\u001b[39m \u001b[39mself\u001b[39m\u001b[39m.\u001b[39m_get_obs()\n\u001b[1;32m    115\u001b[0m \u001b[39m# Update Battery and calculate reward\u001b[39;00m\n\u001b[0;32m--> 116\u001b[0m \u001b[39mself\u001b[39m\u001b[39m.\u001b[39mnet, \u001b[39mself\u001b[39m\u001b[39m.\u001b[39meflux \u001b[39m=\u001b[39m \u001b[39mself\u001b[39;49m\u001b[39m.\u001b[39;49m_update_battery(obs[\u001b[39mself\u001b[39;49m\u001b[39m.\u001b[39;49midx[\u001b[39m'\u001b[39;49m\u001b[39msolar\u001b[39;49m\u001b[39m'\u001b[39;49m]],\n\u001b[1;32m    117\u001b[0m                                             obs[\u001b[39mself\u001b[39;49m\u001b[39m.\u001b[39;49midx[\u001b[39m'\u001b[39;49m\u001b[39mloads\u001b[39;49m\u001b[39m'\u001b[39;49m]], \n\u001b[1;32m    118\u001b[0m                                             obs[\u001b[39mself\u001b[39;49m\u001b[39m.\u001b[39;49midx[\u001b[39m'\u001b[39;49m\u001b[39mmax_d\u001b[39;49m\u001b[39m'\u001b[39;49m]], \n\u001b[1;32m    119\u001b[0m                                             obs[\u001b[39mself\u001b[39;49m\u001b[39m.\u001b[39;49midx[\u001b[39m'\u001b[39;49m\u001b[39mmax_c\u001b[39;49m\u001b[39m'\u001b[39;49m]], \n\u001b[1;32m    120\u001b[0m                                             action)\n\u001b[1;32m    121\u001b[0m \u001b[39mself\u001b[39m\u001b[39m.\u001b[39mreward \u001b[39m=\u001b[39m \u001b[39mself\u001b[39m\u001b[39m.\u001b[39m_calculate_reward(\u001b[39mself\u001b[39m\u001b[39m.\u001b[39mnet,\n\u001b[1;32m    122\u001b[0m                                     obs[\u001b[39mself\u001b[39m\u001b[39m.\u001b[39midx[\u001b[39m'\u001b[39m\u001b[39mexport_tariff\u001b[39m\u001b[39m'\u001b[39m]], \n\u001b[1;32m    123\u001b[0m                                     obs[\u001b[39mself\u001b[39m\u001b[39m.\u001b[39midx[\u001b[39m'\u001b[39m\u001b[39mimport_tariff\u001b[39m\u001b[39m'\u001b[39m]])\n\u001b[1;32m    124\u001b[0m \u001b[39mself\u001b[39m\u001b[39m.\u001b[39mepisode_reward \u001b[39m+\u001b[39m\u001b[39m=\u001b[39m \u001b[39mself\u001b[39m\u001b[39m.\u001b[39mreward \n",
      "File \u001b[0;32m~/Berkeley/w210/home-energy-optimizer/gym_homer/envs/test_env_v0.py:202\u001b[0m, in \u001b[0;36mHomerEnv._update_battery\u001b[0;34m(self, solar, loads, max_d, max_c, action)\u001b[0m\n\u001b[1;32m    200\u001b[0m \u001b[39mif\u001b[39;00m action \u001b[39m==\u001b[39m Actions\u001b[39m.\u001b[39mCharge\u001b[39m.\u001b[39mvalue:\n\u001b[1;32m    201\u001b[0m     net \u001b[39m=\u001b[39m loads \u001b[39m+\u001b[39m solar \u001b[39m+\u001b[39m max_c\n\u001b[0;32m--> 202\u001b[0m     \u001b[39mself\u001b[39;49m\u001b[39m.\u001b[39;49mbattery\u001b[39m.\u001b[39;49mcharge_(max_c)\n\u001b[1;32m    203\u001b[0m     e_flux \u001b[39m=\u001b[39m max_c\n\u001b[1;32m    205\u001b[0m \u001b[39melif\u001b[39;00m action \u001b[39m==\u001b[39m Actions\u001b[39m.\u001b[39mDischarge\u001b[39m.\u001b[39mvalue:\n",
      "File \u001b[0;32m~/Berkeley/w210/home-energy-optimizer/models/battery_simulator.py:137\u001b[0m, in \u001b[0;36mbattery.charge_\u001b[0;34m(self, input_energy)\u001b[0m\n\u001b[1;32m    134\u001b[0m     input_energy \u001b[39m=\u001b[39m input_energy[\u001b[39m0\u001b[39m]\n\u001b[1;32m    136\u001b[0m eps \u001b[39m=\u001b[39m \u001b[39m1e-5\u001b[39m\n\u001b[0;32m--> 137\u001b[0m \u001b[39mif\u001b[39;00m \u001b[39mabs\u001b[39m(output_energy \u001b[39m-\u001b[39m available_capacity) \u001b[39m<\u001b[39m eps:\n\u001b[1;32m    138\u001b[0m     output_energy \u001b[39m=\u001b[39m available_capacity\n\u001b[1;32m    140\u001b[0m \u001b[39mif\u001b[39;00m input_energy \u001b[39m>\u001b[39m available_capacity:\n",
      "\u001b[0;31mUnboundLocalError\u001b[0m: local variable 'output_energy' referenced before assignment"
     ]
    }
   ],
   "source": [
    "data = pd.read_csv(path+\"/test_env_data.csv\", index_col=False).fillna(0)\n",
    "env = HomerEnv(data=data)\n",
    "for i in range(1000):\n",
    "    check_env(env, warn=True)"
   ]
  },
  {
   "cell_type": "code",
   "execution_count": 3,
   "id": "bad58718",
   "metadata": {},
   "outputs": [],
   "source": [
    "wrapped_env = wrappers.FlattenObservation(env)"
   ]
  },
  {
   "cell_type": "code",
   "execution_count": 5,
   "id": "45ebab3a",
   "metadata": {},
   "outputs": [
    {
     "name": "stdout",
     "output_type": "stream",
     "text": [
      "Using cpu device\n",
      "Wrapping the env with a `Monitor` wrapper\n",
      "Wrapping the env in a DummyVecEnv.\n"
     ]
    },
    {
     "ename": "AttributeError",
     "evalue": "'Box' object has no attribute 'spaces'",
     "output_type": "error",
     "traceback": [
      "\u001b[0;31m---------------------------------------------------------------------------\u001b[0m",
      "\u001b[0;31mAttributeError\u001b[0m                            Traceback (most recent call last)",
      "Cell \u001b[0;32mIn [5], line 3\u001b[0m\n\u001b[1;32m      1\u001b[0m \u001b[39mfrom\u001b[39;00m \u001b[39mstable_baselines3\u001b[39;00m \u001b[39mimport\u001b[39;00m PPO, DQN\n\u001b[0;32m----> 3\u001b[0m model \u001b[39m=\u001b[39m PPO(\u001b[39m\"\u001b[39;49m\u001b[39mMultiInputPolicy\u001b[39;49m\u001b[39m\"\u001b[39;49m, env, verbose\u001b[39m=\u001b[39;49m\u001b[39m1\u001b[39;49m)\n\u001b[1;32m      4\u001b[0m model\u001b[39m.\u001b[39mlearn(total_timesteps\u001b[39m=\u001b[39m\u001b[39m10\u001b[39m)\n\u001b[1;32m      6\u001b[0m obs \u001b[39m=\u001b[39m env\u001b[39m.\u001b[39mreset()\n",
      "File \u001b[0;32m~/Berkeley/w210/home-energy-optimizer/sb3/lib/python3.9/site-packages/stable_baselines3/ppo/ppo.py:161\u001b[0m, in \u001b[0;36mPPO.__init__\u001b[0;34m(self, policy, env, learning_rate, n_steps, batch_size, n_epochs, gamma, gae_lambda, clip_range, clip_range_vf, normalize_advantage, ent_coef, vf_coef, max_grad_norm, use_sde, sde_sample_freq, target_kl, tensorboard_log, policy_kwargs, verbose, seed, device, _init_setup_model)\u001b[0m\n\u001b[1;32m    158\u001b[0m \u001b[39mself\u001b[39m\u001b[39m.\u001b[39mtarget_kl \u001b[39m=\u001b[39m target_kl\n\u001b[1;32m    160\u001b[0m \u001b[39mif\u001b[39;00m _init_setup_model:\n\u001b[0;32m--> 161\u001b[0m     \u001b[39mself\u001b[39;49m\u001b[39m.\u001b[39;49m_setup_model()\n",
      "File \u001b[0;32m~/Berkeley/w210/home-energy-optimizer/sb3/lib/python3.9/site-packages/stable_baselines3/ppo/ppo.py:164\u001b[0m, in \u001b[0;36mPPO._setup_model\u001b[0;34m(self)\u001b[0m\n\u001b[1;32m    163\u001b[0m \u001b[39mdef\u001b[39;00m \u001b[39m_setup_model\u001b[39m(\u001b[39mself\u001b[39m) \u001b[39m-\u001b[39m\u001b[39m>\u001b[39m \u001b[39mNone\u001b[39;00m:\n\u001b[0;32m--> 164\u001b[0m     \u001b[39msuper\u001b[39;49m()\u001b[39m.\u001b[39;49m_setup_model()\n\u001b[1;32m    166\u001b[0m     \u001b[39m# Initialize schedules for policy/value clipping\u001b[39;00m\n\u001b[1;32m    167\u001b[0m     \u001b[39mself\u001b[39m\u001b[39m.\u001b[39mclip_range \u001b[39m=\u001b[39m get_schedule_fn(\u001b[39mself\u001b[39m\u001b[39m.\u001b[39mclip_range)\n",
      "File \u001b[0;32m~/Berkeley/w210/home-energy-optimizer/sb3/lib/python3.9/site-packages/stable_baselines3/common/on_policy_algorithm.py:117\u001b[0m, in \u001b[0;36mOnPolicyAlgorithm._setup_model\u001b[0;34m(self)\u001b[0m\n\u001b[1;32m    106\u001b[0m buffer_cls \u001b[39m=\u001b[39m DictRolloutBuffer \u001b[39mif\u001b[39;00m \u001b[39misinstance\u001b[39m(\u001b[39mself\u001b[39m\u001b[39m.\u001b[39mobservation_space, gym\u001b[39m.\u001b[39mspaces\u001b[39m.\u001b[39mDict) \u001b[39melse\u001b[39;00m RolloutBuffer\n\u001b[1;32m    108\u001b[0m \u001b[39mself\u001b[39m\u001b[39m.\u001b[39mrollout_buffer \u001b[39m=\u001b[39m buffer_cls(\n\u001b[1;32m    109\u001b[0m     \u001b[39mself\u001b[39m\u001b[39m.\u001b[39mn_steps,\n\u001b[1;32m    110\u001b[0m     \u001b[39mself\u001b[39m\u001b[39m.\u001b[39mobservation_space,\n\u001b[0;32m   (...)\u001b[0m\n\u001b[1;32m    115\u001b[0m     n_envs\u001b[39m=\u001b[39m\u001b[39mself\u001b[39m\u001b[39m.\u001b[39mn_envs,\n\u001b[1;32m    116\u001b[0m )\n\u001b[0;32m--> 117\u001b[0m \u001b[39mself\u001b[39m\u001b[39m.\u001b[39mpolicy \u001b[39m=\u001b[39m \u001b[39mself\u001b[39;49m\u001b[39m.\u001b[39;49mpolicy_class(  \u001b[39m# pytype:disable=not-instantiable\u001b[39;49;00m\n\u001b[1;32m    118\u001b[0m     \u001b[39mself\u001b[39;49m\u001b[39m.\u001b[39;49mobservation_space,\n\u001b[1;32m    119\u001b[0m     \u001b[39mself\u001b[39;49m\u001b[39m.\u001b[39;49maction_space,\n\u001b[1;32m    120\u001b[0m     \u001b[39mself\u001b[39;49m\u001b[39m.\u001b[39;49mlr_schedule,\n\u001b[1;32m    121\u001b[0m     use_sde\u001b[39m=\u001b[39;49m\u001b[39mself\u001b[39;49m\u001b[39m.\u001b[39;49muse_sde,\n\u001b[1;32m    122\u001b[0m     \u001b[39m*\u001b[39;49m\u001b[39m*\u001b[39;49m\u001b[39mself\u001b[39;49m\u001b[39m.\u001b[39;49mpolicy_kwargs  \u001b[39m# pytype:disable=not-instantiable\u001b[39;49;00m\n\u001b[1;32m    123\u001b[0m )\n\u001b[1;32m    124\u001b[0m \u001b[39mself\u001b[39m\u001b[39m.\u001b[39mpolicy \u001b[39m=\u001b[39m \u001b[39mself\u001b[39m\u001b[39m.\u001b[39mpolicy\u001b[39m.\u001b[39mto(\u001b[39mself\u001b[39m\u001b[39m.\u001b[39mdevice)\n",
      "File \u001b[0;32m~/Berkeley/w210/home-energy-optimizer/sb3/lib/python3.9/site-packages/stable_baselines3/common/policies.py:777\u001b[0m, in \u001b[0;36mMultiInputActorCriticPolicy.__init__\u001b[0;34m(self, observation_space, action_space, lr_schedule, net_arch, activation_fn, ortho_init, use_sde, log_std_init, full_std, use_expln, squash_output, features_extractor_class, features_extractor_kwargs, normalize_images, optimizer_class, optimizer_kwargs)\u001b[0m\n\u001b[1;32m    758\u001b[0m \u001b[39mdef\u001b[39;00m \u001b[39m__init__\u001b[39m(\n\u001b[1;32m    759\u001b[0m     \u001b[39mself\u001b[39m,\n\u001b[1;32m    760\u001b[0m     observation_space: gym\u001b[39m.\u001b[39mspaces\u001b[39m.\u001b[39mDict,\n\u001b[0;32m   (...)\u001b[0m\n\u001b[1;32m    775\u001b[0m     optimizer_kwargs: Optional[Dict[\u001b[39mstr\u001b[39m, Any]] \u001b[39m=\u001b[39m \u001b[39mNone\u001b[39;00m,\n\u001b[1;32m    776\u001b[0m ):\n\u001b[0;32m--> 777\u001b[0m     \u001b[39msuper\u001b[39;49m()\u001b[39m.\u001b[39;49m\u001b[39m__init__\u001b[39;49m(\n\u001b[1;32m    778\u001b[0m         observation_space,\n\u001b[1;32m    779\u001b[0m         action_space,\n\u001b[1;32m    780\u001b[0m         lr_schedule,\n\u001b[1;32m    781\u001b[0m         net_arch,\n\u001b[1;32m    782\u001b[0m         activation_fn,\n\u001b[1;32m    783\u001b[0m         ortho_init,\n\u001b[1;32m    784\u001b[0m         use_sde,\n\u001b[1;32m    785\u001b[0m         log_std_init,\n\u001b[1;32m    786\u001b[0m         full_std,\n\u001b[1;32m    787\u001b[0m         use_expln,\n\u001b[1;32m    788\u001b[0m         squash_output,\n\u001b[1;32m    789\u001b[0m         features_extractor_class,\n\u001b[1;32m    790\u001b[0m         features_extractor_kwargs,\n\u001b[1;32m    791\u001b[0m         normalize_images,\n\u001b[1;32m    792\u001b[0m         optimizer_class,\n\u001b[1;32m    793\u001b[0m         optimizer_kwargs,\n\u001b[1;32m    794\u001b[0m     )\n",
      "File \u001b[0;32m~/Berkeley/w210/home-energy-optimizer/sb3/lib/python3.9/site-packages/stable_baselines3/common/policies.py:447\u001b[0m, in \u001b[0;36mActorCriticPolicy.__init__\u001b[0;34m(self, observation_space, action_space, lr_schedule, net_arch, activation_fn, ortho_init, use_sde, log_std_init, full_std, use_expln, squash_output, features_extractor_class, features_extractor_kwargs, normalize_images, optimizer_class, optimizer_kwargs)\u001b[0m\n\u001b[1;32m    444\u001b[0m \u001b[39mself\u001b[39m\u001b[39m.\u001b[39mactivation_fn \u001b[39m=\u001b[39m activation_fn\n\u001b[1;32m    445\u001b[0m \u001b[39mself\u001b[39m\u001b[39m.\u001b[39mortho_init \u001b[39m=\u001b[39m ortho_init\n\u001b[0;32m--> 447\u001b[0m \u001b[39mself\u001b[39m\u001b[39m.\u001b[39mfeatures_extractor \u001b[39m=\u001b[39m features_extractor_class(\u001b[39mself\u001b[39;49m\u001b[39m.\u001b[39;49mobservation_space, \u001b[39m*\u001b[39;49m\u001b[39m*\u001b[39;49m\u001b[39mself\u001b[39;49m\u001b[39m.\u001b[39;49mfeatures_extractor_kwargs)\n\u001b[1;32m    448\u001b[0m \u001b[39mself\u001b[39m\u001b[39m.\u001b[39mfeatures_dim \u001b[39m=\u001b[39m \u001b[39mself\u001b[39m\u001b[39m.\u001b[39mfeatures_extractor\u001b[39m.\u001b[39mfeatures_dim\n\u001b[1;32m    450\u001b[0m \u001b[39mself\u001b[39m\u001b[39m.\u001b[39mnormalize_images \u001b[39m=\u001b[39m normalize_images\n",
      "File \u001b[0;32m~/Berkeley/w210/home-energy-optimizer/sb3/lib/python3.9/site-packages/stable_baselines3/common/torch_layers.py:258\u001b[0m, in \u001b[0;36mCombinedExtractor.__init__\u001b[0;34m(self, observation_space, cnn_output_dim)\u001b[0m\n\u001b[1;32m    255\u001b[0m extractors \u001b[39m=\u001b[39m {}\n\u001b[1;32m    257\u001b[0m total_concat_size \u001b[39m=\u001b[39m \u001b[39m0\u001b[39m\n\u001b[0;32m--> 258\u001b[0m \u001b[39mfor\u001b[39;00m key, subspace \u001b[39min\u001b[39;00m observation_space\u001b[39m.\u001b[39;49mspaces\u001b[39m.\u001b[39mitems():\n\u001b[1;32m    259\u001b[0m     \u001b[39mif\u001b[39;00m is_image_space(subspace):\n\u001b[1;32m    260\u001b[0m         extractors[key] \u001b[39m=\u001b[39m NatureCNN(subspace, features_dim\u001b[39m=\u001b[39mcnn_output_dim)\n",
      "\u001b[0;31mAttributeError\u001b[0m: 'Box' object has no attribute 'spaces'"
     ]
    }
   ],
   "source": [
    "from stable_baselines3 import PPO, DQN\n",
    "\n",
    "model = PPO(\"MultiInputPolicy\", env, verbose=1)\n",
    "model.learn(total_timesteps=10)\n",
    "\n",
    "obs = env.reset()\n",
    "for i in range(10):\n",
    "    action, _states = model.predict(obs, deterministic=True)\n",
    "    obs, reward, done, _,info = env.step(action)\n",
    "    #env.render()\n",
    "    if done:\n",
    "        obs = env.reset()\n",
    "        "
   ]
  },
  {
   "cell_type": "code",
   "execution_count": null,
   "id": "ace2b150-f6a6-4a89-9cb8-5298794ba690",
   "metadata": {},
   "outputs": [],
   "source": []
  }
 ],
 "metadata": {
  "kernelspec": {
   "display_name": "Python 3.9.2 ('sb3': venv)",
   "language": "python",
   "name": "python3"
  },
  "language_info": {
   "codemirror_mode": {
    "name": "ipython",
    "version": 3
   },
   "file_extension": ".py",
   "mimetype": "text/x-python",
   "name": "python",
   "nbconvert_exporter": "python",
   "pygments_lexer": "ipython3",
   "version": "3.9.2"
  },
  "vscode": {
   "interpreter": {
    "hash": "6e951bfbbf4ed325c8baee6b2ff3d49aaeaddd113a15e0cce375b7e3cd0e22ca"
   }
  }
 },
 "nbformat": 4,
 "nbformat_minor": 5
}

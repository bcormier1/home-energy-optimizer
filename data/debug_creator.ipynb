{
 "cells": [
  {
   "cell_type": "code",
   "execution_count": 1,
   "metadata": {},
   "outputs": [],
   "source": [
    "from datetime import datetime, time\n",
    "import numpy as np\n",
    "import pandas as pd\n",
    "import matplotlib.pyplot as plt\n",
    "\n",
    "import sys, os\n",
    "parent_dir = os.getcwd()\n",
    "path = os.path.dirname(parent_dir)\n",
    "sys.path.append(path)\n"
   ]
  },
  {
   "cell_type": "code",
   "execution_count": 2,
   "metadata": {},
   "outputs": [
    {
     "data": {
      "text/plain": [
       "'DD04108401266'"
      ]
     },
     "execution_count": 2,
     "metadata": {},
     "output_type": "execute_result"
    }
   ],
   "source": [
    "device_list = pd.read_csv(\"debug/device_list.csv\")['device_id'].tolist()\n",
    "device_list[0]"
   ]
  },
  {
   "cell_type": "code",
   "execution_count": 3,
   "metadata": {},
   "outputs": [],
   "source": [
    "t_s=0\n",
    "t_e=8*30*24*12\n",
    "v_e=t_e+(30*24*12)\n",
    "tt_e = v_e+(30*24*12)\n",
    "\n",
    "for device in device_list:\n",
    "    df = pd.read_parquet(f'simple_pricing/train/{device}_simple_train.parquet')\n",
    "    \n",
    "    new = df.loc[t_s:t_e,].copy()\n",
    "    new.to_parquet(f'debug/train/{device}_debug_train.parquet')\n",
    "    \n",
    "    new2 = df.loc[t_e+1:v_e,].copy()\n",
    "    new2.to_parquet(f'debug/validation/{device}_debug_validation.parquet')\n",
    "    \n",
    "    new3 = df.loc[v_e+1:tt_e,].copy()\n",
    "    new3.to_parquet(f'debug/test/{device}_debug_test.parquet')"
   ]
  },
  {
   "cell_type": "code",
   "execution_count": null,
   "metadata": {},
   "outputs": [],
   "source": []
  }
 ],
 "metadata": {
  "kernelspec": {
   "display_name": "Python 3 (ipykernel)",
   "language": "python",
   "name": "python3"
  },
  "language_info": {
   "codemirror_mode": {
    "name": "ipython",
    "version": 3
   },
   "file_extension": ".py",
   "mimetype": "text/x-python",
   "name": "python",
   "nbconvert_exporter": "python",
   "pygments_lexer": "ipython3",
   "version": "3.10.6"
  },
  "vscode": {
   "interpreter": {
    "hash": "a863a74765bf0c3fe50d1b3d9f296fe0cd846a803cf5e7d56750d3cf2026663d"
   }
  }
 },
 "nbformat": 4,
 "nbformat_minor": 4
}

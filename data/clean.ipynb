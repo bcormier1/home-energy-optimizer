{
 "cells": [
  {
   "cell_type": "code",
   "execution_count": 9,
   "metadata": {},
   "outputs": [],
   "source": [
    "from datetime import datetime, time\n",
    "import numpy as np\n",
    "import pandas as pd\n",
    "import matplotlib.pyplot as plt"
   ]
  },
  {
   "cell_type": "code",
   "execution_count": 10,
   "metadata": {},
   "outputs": [],
   "source": [
    "import sys, os\n",
    "parent_dir = os.getcwd()\n",
    "path = os.path.dirname(parent_dir)\n",
    "sys.path.append(path)\n",
    "\n",
    "from models.time_utilities import polar_time, encode_month, encode_weekend\n",
    "from models.region_utilities import encode_region"
   ]
  },
  {
   "cell_type": "code",
   "execution_count": 155,
   "metadata": {},
   "outputs": [],
   "source": [
    "def get_month(dt):\n",
    "    \n",
    "    m_sin = np.sin(2 * np.pi * dt.month / 12)\n",
    "    m_cos = np.cos(2 * np.pi * dt.month / 12)\n",
    "\n",
    "    return m_cos, m_sin\n",
    "\n",
    "def polar_time(dt, interval=5):\n",
    "    \"\"\"\n",
    "    Takes a timestamp as input and returns the time in time\n",
    "    \"\"\"\n",
    "\n",
    "    current_m = dt.minute\n",
    "    # Get utc offset in seconds\n",
    "    utc_offset = dt.utcoffset()\n",
    "    if utc_offset == 10.5 * 60 * 60 or utc_offset == 11 * 60 * 60:\n",
    "        if dt.hour == 0:\n",
    "            current_hour = 23\n",
    "        else:\n",
    "            current_h = dt.hour - 1\n",
    "    else:\n",
    "        current_h = dt.hour\n",
    "\n",
    "    n_intervals = 24 * 60 / interval\n",
    "\n",
    "    g_min = int((current_h * 60 / interval) + (current_m // interval))\n",
    "    t_sin = np.sin(2 * np.pi * g_min / n_intervals)\n",
    "    t_cos = np.cos(2 * np.pi * g_min / n_intervals)\n",
    "    \n",
    "    return t_cos, t_sin\n",
    "\n",
    "    import numpy as np\n",
    "\n",
    "def encode_region(region):\n",
    "\n",
    "    if region == 'NSW':\n",
    "        return np.array([0,0,0])\n",
    "    elif region == ['VIC']:\n",
    "        return np.array([1,0,0])\n",
    "    elif region == 'QLD':\n",
    "        return np.array([0,1,0])\n",
    "    elif region == 'SA':\n",
    "        return np.array([0,0,1])\n",
    "    else:\n",
    "        raise Exception(f'Region {region} not recognised!')\n"
   ]
  },
  {
   "cell_type": "code",
   "execution_count": 156,
   "metadata": {},
   "outputs": [],
   "source": [
    "raw_df = pd.read_parquet('full_ww_set_2.parquet')\n",
    "metadata = pd.read_csv('device_metadata.csv')"
   ]
  },
  {
   "cell_type": "code",
   "execution_count": 157,
   "metadata": {},
   "outputs": [],
   "source": [
    "#Create Datetime index\n",
    "raw_df.loc[:,\"Datetime\"]=raw_df.Timestamp.apply(lambda x: datetime.fromtimestamp(x))\n",
    "raw_df = raw_df.set_index(\"Datetime\")"
   ]
  },
  {
   "cell_type": "code",
   "execution_count": 158,
   "metadata": {},
   "outputs": [
    {
     "name": "stdout",
     "output_type": "stream",
     "text": [
      "Device DD04108401266, Region: VIC, Timezone: Australia/Melbourne\n"
     ]
    }
   ],
   "source": [
    "device_list = raw_df.DeviceID.unique().tolist()\n",
    "test_device = device_list[0]\n",
    "test_region = metadata.loc[metadata['DeviceID']==test_device, \"State\"].tolist()[0]\n",
    "# [Timezone name, standard time UTC offset in hours.]\n",
    "timezone_dict = {\n",
    "    \"VIC\": ['Australia/Melbourne', 10],\n",
    "    'NSW': ['Australia/Sydney', 10],\n",
    "    'QLD': ['Australia/Brisbane', 10],\n",
    "    'SA': ['Australia/Adelaide', 9.5]\n",
    "}\n",
    "\n",
    "test_timezone = timezone_dict[f'{test_region}'][0]\n",
    "\n",
    "print(\n",
    "    f\"Device {test_device}, Region: {test_region}, Timezone: {test_timezone}\"\n",
    ")"
   ]
  },
  {
   "cell_type": "code",
   "execution_count": 169,
   "metadata": {},
   "outputs": [],
   "source": [
    "# Filter df\n",
    "single_df = raw_df[raw_df['DeviceID']==test_device].copy()\n",
    "# View duplicates single_df[pd.Index.duplicated(single_df.index)]\n",
    "\n",
    "# Infer daylist savings time offset for that timezone. \n",
    "tz_index = single_df.index.tz_localize(test_timezone, ambiguous='infer')\n",
    "\n",
    "# Set adjusted timezone to index\n",
    "tz_df = single_df.set_index(tz_index).copy()\n",
    "\n",
    "# Resample to 5 minute intervals, forward then backfill, reset index. \n",
    "resampled_df = tz_df.resample('5T', convention='start').ffill().bfill().reset_index()\n",
    "\n",
    "# Create weekdays \n",
    "resampled_df.loc[:, 'weekday'] = resampled_df.Datetime.apply(lambda x: 0 if x.weekday() < 5 else 1)\n",
    "\n",
    "# Convert Time and Month\n",
    "resampled_df.loc[:, 'month_x'] = resampled_df.Datetime.apply(lambda x: get_month(x)[0])\n",
    "resampled_df.loc[:, 'month_y'] = resampled_df.Datetime.apply(lambda x: get_month(x)[1])\n",
    "resampled_df.loc[:, 'time_x'] = resampled_df.Datetime.apply(lambda x: polar_time(x)[0])\n",
    "resampled_df.loc[:, 'time_y'] = resampled_df.Datetime.apply(lambda x: polar_time(x)[1])\n",
    "\n",
    "# Add in region -> for ToU, the 'region' column is fine. \n",
    "# For the reinforcement learning stuff, we need to one-hot-encode the region.\n",
    "resampled_df.loc[:, 'region'] = test_region\n",
    "resampled_df.loc[:, 'region_1'] = resampled_df.Datetime.apply(lambda x: encode_region(x)[0])\n",
    "resampled_df.loc[:, 'region_2'] = resampled_df.Datetime.apply(lambda x: encode_region(x)[1])\n",
    "resampled_df.loc[:, 'region_3'] = resampled_df.Datetime.apply(lambda x: encode_region(x)[2])\n",
    "\n",
    "## Then we make all negative values in the Home Consumption and Solar Consumption channels = 0\n",
    "resampled_df.loc[resampled_df['Home Consumption'] < 0, 'Home Consumption'] = 0\n",
    "resampled_df.loc[resampled_df['Solar Consumption'] < 0, 'Solar Consumption'] = 0"
   ]
  },
  {
   "cell_type": "code",
   "execution_count": null,
   "metadata": {},
   "outputs": [],
   "source": []
  }
 ],
 "metadata": {
  "kernelspec": {
   "display_name": "Python 3 (ipykernel)",
   "language": "python",
   "name": "python3"
  },
  "language_info": {
   "codemirror_mode": {
    "name": "ipython",
    "version": 3
   },
   "file_extension": ".py",
   "mimetype": "text/x-python",
   "name": "python",
   "nbconvert_exporter": "python",
   "pygments_lexer": "ipython3",
   "version": "3.10.6"
  },
  "vscode": {
   "interpreter": {
    "hash": "680b5f6c383b0e8429d2a9128e666422e28e4aa5a33b220121c7ea81e5b87d60"
   }
  }
 },
 "nbformat": 4,
 "nbformat_minor": 4
}
